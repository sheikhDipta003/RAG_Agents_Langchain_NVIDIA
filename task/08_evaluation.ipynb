{
 "cells": [
  {
   "cell_type": "markdown",
   "id": "b35536f6-166c-4b89-8136-96417db5be30",
   "metadata": {
    "id": "b35536f6-166c-4b89-8136-96417db5be30"
   },
   "source": [
    "<center><a href=\"https://www.nvidia.com/en-us/training/\"><img src=\"https://dli-lms.s3.amazonaws.com/assets/general/DLI_Header_White.png\" width=\"400\" height=\"186\" /></a></center>"
   ]
  },
  {
   "cell_type": "markdown",
   "id": "77c8ac2e-eb68-4b84-85fe-3a6661eba976",
   "metadata": {
    "id": "77c8ac2e-eb68-4b84-85fe-3a6661eba976"
   },
   "source": [
    "<br>\n",
    "\n",
    "# <font color=\"#76b900\">**Notebook 8 [Assessment]:** RAG Evaluation</font>\n",
    "\n",
    "<br>\n",
    "\n",
    "Welcome to the last notebook of the course! In the previous notebook, you integrated a vector store solution into a RAG pipeline! In this notebook, you will take that same pipeline and evaluate it using numerical RAG evaluation techniques incorporating LLM-as-a-Judge metrics!\n",
    "\n",
    "<br>\n",
    "\n",
    "### **Learning Objectives:**\n",
    "\n",
    "- Learn how to integrate the techniques from prior notebooks to numerically approximate the goodness of your RAG pipeline.\n",
    "\n",
    "- **Final Exercice**: ***By working through this notebook in the Course Environment,* you will be able to submit the coding component of the course!**\n",
    "\n",
    "<br>\n",
    "\n",
    "### **Questions To Think About:**\n",
    "\n",
    "- As you go along, remember what our metrics actually represent. Should our pipeline pass these objectives? Is our judge LLM sufficient for evaluating the pipeline? Does a particular metric even matter for our use case?\n",
    "- If we left the vectorstore-as-a-memory component in our chain, do you think it would still pass the evaluation? Additionally, is the evaluation useful for assessing vectorstore-as-a-memory performance? \n",
    "\n",
    "<br>\n",
    "\n",
    "### **Notebook Source:**\n",
    "\n",
    "- This notebook is part of a larger [**NVIDIA Deep Learning Institute**](https://www.nvidia.com/en-us/training/) course titled [**Building RAG Agents with LLMs**](https://www.nvidia.com/en-sg/training/instructor-led-workshops/building-rag-agents-with-llms/). If sharing this material, please give credit and link back to the original course.\n",
    "\n",
    "<br>\n",
    "\n",
    "### **Environment Setup:**"
   ]
  },
  {
   "cell_type": "code",
   "execution_count": 4,
   "id": "w_A3rZOrIeQD",
   "metadata": {
    "id": "w_A3rZOrIeQD"
   },
   "outputs": [],
   "source": [
    "# %pip install -q langchain langchain-nvidia-ai-endpoints gradio rich\n",
    "# %pip install -q arxiv pymupdf faiss-cpu ragas\n",
    "\n",
    "## If you encounter a typing-extensions issue, restart your runtime and try again\n",
    "# from langchain_nvidia_ai_endpoints import ChatNVIDIA\n",
    "# ChatNVIDIA.get_available_models()\n",
    "\n",
    "from functools import partial\n",
    "from rich.console import Console\n",
    "from rich.style import Style\n",
    "from rich.theme import Theme\n",
    "\n",
    "console = Console()\n",
    "base_style = Style(color=\"#76B900\", bold=True)\n",
    "norm_style = Style(bold=True)\n",
    "pprint = partial(console.print, style=base_style)\n",
    "pprint2 = partial(console.print, style=norm_style)\n",
    "\n",
    "from langchain_nvidia_ai_endpoints import ChatNVIDIA, NVIDIAEmbeddings\n",
    "\n",
    "# NVIDIAEmbeddings.get_available_models()\n",
    "embedder = NVIDIAEmbeddings(model=\"nvidia/nv-embed-v1\", truncate=\"END\")\n",
    "\n",
    "# ChatNVIDIA.get_available_models(base_url=\"http://llm_client:9000/v1\")\n",
    "instruct_llm = ChatNVIDIA(model=\"mistralai/mixtral-8x7b-instruct-v0.1\")"
   ]
  },
  {
   "cell_type": "markdown",
   "id": "zEgV11oZmJGg",
   "metadata": {
    "id": "zEgV11oZmJGg"
   },
   "source": [
    "----\n",
    "\n",
    "<br>\n",
    "\n",
    "## **Part 1:** Pre-Release Evaluation\n",
    "\n",
    "In our previous notebook, we successfully combined several concepts to create a document chatbot with the aim of responsive and informative interactions. However, the diversity of user interactions necessitates comprehensive testing to truly understand the chatbot's performance. Thorough testing in varied scenarios is crucial to ensure that the system is not only robust and versatile but also aligns with user and provider expectations.\n",
    "\n",
    "After defining your chatbot's roles and implementing the necessary features, evaluating it becomes a multi-stage process:\n",
    "\n",
    "- **Typical Use Inspection:** Start by testing scenarios most relevant to your use case. See if your chatbot can reliably navigate discussions with limited human intervention.\n",
    "\n",
    "    - Additionally, identify limitations or compartments that should be redirected to a human for inspection/supervision (i.e., human swap-in to confirm transactions or perform sensitive navigation) and implement those options.\n",
    "\n",
    "- **Edge Case Inspection:** Explore the boundaries of typical use, identifying how the chatbot handles less common but plausible scenarios.\n",
    "\n",
    "    - Before any public release, assess critical boundary conditions that could pose liability risks, such as the potential generation of inappropriate content.\n",
    "\n",
    "    - Implement well-tested guardrails on all outputs (and possibly inputs) to limit undesired interactions and redirect users into predictable conversation flows.\n",
    "\n",
    "- **Progressive Rollout:** Rolling out your model to a limited audience (first internal, then [A/B](https://en.wikipedia.org/wiki/A/B_testing)) and implement analytics features like usage analytics dashboards and feedback avenues (flag/like/dislike/etc).\n",
    "\n",
    "Of these three steps, the first two can be done by a small team or an individual and should be iterated on as part of the development process. Unfortunately, this needs to be done frequently and can be prone to human error. **Luckily for us, LLMs can be used to help out with LLM-as-a-Judge formulations!**\n",
    "\n",
    "*(Yeah, this probably isn't surprising by now. LLMs being strong is why this course is here...).*\n",
    "\n",
    "----\n",
    "\n",
    "<br>\n",
    "\n",
    "## **Part 2:** LLM-as-a-Judge Formulation\n",
    "\n",
    "In the realm of conversational AI, using LLMs as evaluators or 'judges' has emerged as a useful approach for configurable automatic testing of natural language task performance:\n",
    "\n",
    "- An LLM can simulate a range of interaction scenarios and generate synthetic data, allowing an evaluation developer to generate targeted inputs to eliciting a range of behaviors from your chatbot.\n",
    "\n",
    "- The chatbot's correspondence/retrieval on the synthetic data can be evaluated or parsed by an LLM and a consistent output format such as \"Pass\"/\"Fail\", similarity, or extraction can be enforced.\n",
    "\n",
    "- Many such results can be aggregated and a metric can be derived which explains something like \"% of passing evaluations\", \"average number of relevant details from the sources\", \"average cosine similarity\", etc.\n",
    "\n",
    "This idea of using LLMs to test out and quantify chatbot quality, known as [**\"LLM-as-a-Judge,\"**](https://arxiv.org/abs/2306.05685) allows for easy test specifications that align closely with human judgment and can be fine-tuned and replicated at scale.\n",
    "\n",
    "**There are several popular frameworks for off-the-shelf judge formulations including:**\n",
    "- [**RAGAs (short for RAG Assessment)**](https://docs.ragas.io/en/stable/), which offers a suite of great starting points for your own evaluation efforts.\n",
    "- [**LangChain Evaluators**](https://python.langchain.com/v0.1/docs/guides/productionization/evaluation/), which are similar first-party options with many implicitly-constructible agents.\n",
    "\n",
    "Instead of using the chains as-is, we will instead expand on the ideas and evaluate our system with a more custom solution."
   ]
  },
  {
   "cell_type": "markdown",
   "id": "fDDNaBA9N3XM",
   "metadata": {
    "id": "fDDNaBA9N3XM"
   },
   "source": [
    "----\n",
    "\n",
    "<br>\n",
    "\n",
    "## **Part 3: [Assessment Prep]** Pairwise Evaluator\n",
    "\n",
    "The following exercise will flesh out a custom implementation of a simplified [LangChain Pairwise String Evaluator](https://python.langchain.com/v0.1/docs/guides/productionization/evaluation/comparison/pairwise_string/). \n",
    "\n",
    "**To prepare for our RAG chain evaluation, we will need to:**\n",
    "\n",
    "- Pull in our document index (the one we saved in the previous notebook).\n",
    "- Recreate our RAG pipeline of choice.\n",
    "\n",
    "**We will specifically be implementing a judge formulation with the following steps:**\n",
    "\n",
    "- Sample the RAG agent document pool to find two document chunks.\n",
    "- Use those two document chunks to generate a synthetic \"baseline\" question-answer pair.\n",
    "- Use the RAG agent to generate its own answer.\n",
    "- Use a judge LLM to compare the two responses while grounding the synthetic generation as \"ground-truth correct.\"\n",
    "\n",
    "**The chain should be a simple but powerful process that tests for the following objective:**\n",
    "\n",
    "> ***Does my RAG chain outperform a narrow chatbot with limited document access.***\n",
    "\n",
    "\n",
    "\n",
    "\n",
    "\n",
    "**This will be the system used for the final evaluation!** To see how this system is integrated into the autograder, please check out the implementation in [`frontend/server_app.py`](frontend/server_app.py)."
   ]
  },
  {
   "cell_type": "markdown",
   "id": "1bh8jaOqak0f",
   "metadata": {
    "id": "1bh8jaOqak0f"
   },
   "source": [
    "<br>\n",
    "\n",
    "### **Task 1:** Pull In Your Document Retrieval Index\n",
    "\n",
    "For this exercise, you will pull in the `docstore_index` file you created as part of your earlier notebook. The following cell should be able to load in the store as-is."
   ]
  },
  {
   "cell_type": "code",
   "execution_count": 3,
   "id": "tlE7a2lseLOy",
   "metadata": {
    "id": "tlE7a2lseLOy"
   },
   "outputs": [
    {
     "name": "stdout",
     "output_type": "stream",
     "text": [
      "docstore_index/\n",
      "docstore_index/index.pkl\n",
      "docstore_index/index.faiss\n"
     ]
    },
    {
     "data": {
      "text/html": [
       "<pre style=\"white-space:pre;overflow-x:auto;line-height:normal;font-family:Menlo,'DejaVu Sans Mono',consolas,'Courier New',monospace\"><span style=\"color: #76b900; text-decoration-color: #76b900; font-weight: bold\">Constructed aggregate docstore with </span><span style=\"color: #008080; text-decoration-color: #008080; font-weight: bold\">369</span><span style=\"color: #76b900; text-decoration-color: #76b900; font-weight: bold\"> chunks</span>\n",
       "</pre>\n"
      ],
      "text/plain": [
       "\u001b[1;38;2;118;185;0mConstructed aggregate docstore with \u001b[0m\u001b[1;36m369\u001b[0m\u001b[1;38;2;118;185;0m chunks\u001b[0m\n"
      ]
     },
     "metadata": {},
     "output_type": "display_data"
    },
    {
     "data": {
      "text/html": [
       "<pre style=\"white-space:pre;overflow-x:auto;line-height:normal;font-family:Menlo,'DejaVu Sans Mono',consolas,'Courier New',monospace\"><span style=\"color: #76b900; text-decoration-color: #76b900; font-weight: bold\">Sample Chunk:</span>\n",
       "</pre>\n"
      ],
      "text/plain": [
       "\u001b[1;38;2;118;185;0mSample Chunk:\u001b[0m\n"
      ]
     },
     "metadata": {},
     "output_type": "display_data"
    },
    {
     "name": "stdout",
     "output_type": "stream",
     "text": [
      "Paper: Mistral 7B\n",
      "\n",
      "Summary: We introduce Mistral 7B v0.1, a 7-billion-parameter language model engineered\n",
      "for superior performance and efficiency. Mistral 7B outperforms Llama 2 13B\n",
      "across all evaluated benchmarks, and Llama 1 34B in reasoning, mathematics, and\n",
      "code generation. Our model leverages grouped-query attention (GQA) for faster\n",
      "inference, coupled with sliding window attention (SWA) to effectively handle\n",
      "sequences of arbitrary length with a reduced inference cost. We also provide a\n",
      "model fine-tuned to follow instructions, Mistral 7B -- Instruct, that surpasses\n",
      "the Llama 2 13B -- Chat model both on human and automated benchmarks. Our\n",
      "models are released under the Apache 2.0 license.\n",
      "\n",
      "Page Body: . We measure performance on a wide variety of tasks categorized as follow:\\n\\u2022 Commonsense Reasoning (0-shot): Hellaswag [28], Winogrande [21], PIQA [4], SIQA [22],\\nOpenbookQA [19], ARC-Easy, ARC-Challenge [9], CommonsenseQA [24]\\n\\u2022 World Knowledge (5-shot): NaturalQuestions [16], TriviaQA [15]\\n\\u2022 Reading Comprehension (0-shot): BoolQ [8], QuAC [7]\\n\\u2022 Math: GSM8K [10] (8-shot) with maj@8 and MATH [13] (4-shot) with maj@4\\n\\u2022 Code: Humaneval [5] (0-shot) and MBPP [2] (3-shot)\\n\\u2022 Popular aggregated results: MMLU [12] (5-shot), BBH [23] (3-shot), and AGI Eval [29]\\n(3-5-shot, English multiple-choice questions only)\\nDetailed results for Mistral 7B, Llama 2 7B/13B, and Code-Llama 7B are reported in Table 2. Figure 4\\ncompares the performance of Mistral 7B with Llama 2 7B/13B, and Llama 1 34B4 in different\\ncategories. Mistral 7B surpasses Llama 2 13B across all metrics, and outperforms Llama 1 34B on\\nmost benchmarks\n"
     ]
    }
   ],
   "source": [
    "## Make sure you have docstore_index.tgz in your working directory\n",
    "from langchain_nvidia_ai_endpoints import NVIDIAEmbeddings\n",
    "from langchain_community.vectorstores import FAISS\n",
    "\n",
    "# embedder = NVIDIAEmbeddings(model=\"nvidia/embed-qa-4\", truncate=\"END\")\n",
    "\n",
    "!tar xzvf docstore_index.tgz\n",
    "docstore = FAISS.load_local(\"docstore_index\", embedder, allow_dangerous_deserialization=True)\n",
    "docs = list(docstore.docstore._dict.values())\n",
    "\n",
    "def format_chunk(doc):\n",
    "    return (\n",
    "        f\"Paper: {doc.metadata.get('Title', 'unknown')}\"\n",
    "        f\"\\n\\nSummary: {doc.metadata.get('Summary', 'unknown')}\"\n",
    "        f\"\\n\\nPage Body: {doc.page_content}\"\n",
    "    )\n",
    "\n",
    "## This printout just confirms that your store has been retrieved\n",
    "pprint(f\"Constructed aggregate docstore with {len(docstore.docstore._dict)} chunks\")\n",
    "pprint(f\"Sample Chunk:\")\n",
    "print(format_chunk(docs[len(docs)//2]))\n",
    "\n",
    "# The code confirms that the vector store has been successfully loaded and displays:\n",
    "# The total number of document chunks.\n",
    "# A sample document chunk with its title, summary, and content."
   ]
  },
  {
   "cell_type": "markdown",
   "id": "dib0F-t2N4LJ",
   "metadata": {
    "id": "dib0F-t2N4LJ"
   },
   "source": [
    "<br>\n",
    "\n",
    "### **Task 2: [Exercise]** Pull In Your RAG Chain\n",
    "\n",
    "Now that we have our index, we can recreate the RAG agent from the previous notebook! \n",
    "\n",
    "**Key Modifications:**\n",
    "- To keep things simple, feel free to disregard the vectorstore-as-a-memory component. Incorporating it will require some more overhead and will make the exercise a bit more complicated."
   ]
  },
  {
   "cell_type": "code",
   "execution_count": 5,
   "id": "XBi6Y8b8aXd2",
   "metadata": {
    "id": "XBi6Y8b8aXd2"
   },
   "outputs": [
    {
     "name": "stdout",
     "output_type": "stream",
     "text": [
      "RAG, or Retrieval-Augmented Generation, is a framework that enhances the trustworthiness and factuality of Language Models (LLMs) by retrieving relevant information from an external knowledge database and integrating it with the user's query. This process grounds LLMs on the retrieved knowledge for conditional generations. \n",
      "\n",
      "One interesting aspect of RAG is its two-step workflow: retrieval and generation. During the retrieval stage, RAG queries a knowledge database to find the most relevant information. In the generation stage, RAG uses the retrieved information to generate responses. \n",
      "\n",
      "There are also different approaches to how RAG predicts target tokens. The RAG-Sequence model uses the same retrieved document to predict each token in the sequence, while the RAG-Token model can predict each token based on a different document. This flexibility allows RAG to adapt to various knowledge-intensive NLP tasks.\n",
      "\n",
      "(Sources: TrustRAG: Enhancing Robustness and Trustworthiness in RAG; Retrieval-Augmented Generation for Knowledge-Intensive NLP Tasks)"
     ]
    }
   ],
   "source": [
    "from langchain_core.output_parsers import StrOutputParser\n",
    "from langchain_core.prompts import ChatPromptTemplate\n",
    "from langchain_core.runnables import RunnableLambda, RunnableBranch\n",
    "from langchain_core.runnables.passthrough import RunnableAssign\n",
    "from langchain.document_transformers import LongContextReorder\n",
    "\n",
    "from langchain_nvidia_ai_endpoints import ChatNVIDIA, NVIDIAEmbeddings\n",
    "\n",
    "from functools import partial\n",
    "from operator import itemgetter\n",
    "\n",
    "import gradio as gr\n",
    "\n",
    "#####################################################################\n",
    "\n",
    "# NVIDIAEmbeddings.get_available_models()\n",
    "embedder = NVIDIAEmbeddings(model=\"nvidia/nv-embed-v1\", truncate=\"END\")\n",
    "\n",
    "# ChatNVIDIA.get_available_models()\n",
    "instruct_llm = ChatNVIDIA(model=\"mistralai/mixtral-8x7b-instruct-v0.1\")\n",
    "llm = instruct_llm | StrOutputParser()\n",
    "\n",
    "#####################################################################\n",
    "\n",
    "def docs2str(docs, title=\"Document\"):\n",
    "    \"\"\"Useful utility for making chunks into context string. Optional, but useful\"\"\"\n",
    "    out_str = \"\"\n",
    "    for doc in docs:\n",
    "        doc_name = getattr(doc, 'metadata', {}).get('Title', title)\n",
    "        if doc_name: out_str += f\"[Quote from {doc_name}] \"\n",
    "        out_str += getattr(doc, 'page_content', str(doc)) + \"\\n\"\n",
    "    return out_str\n",
    "\n",
    "chat_prompt = ChatPromptTemplate.from_template(\n",
    "    \"You are a document chatbot. Help the user as they ask questions about documents.\"\n",
    "    \" User messaged just asked you a question: {input}\\n\\n\"\n",
    "    \" The following information may be useful for your response: \"\n",
    "    \" Document Retrieval:\\n{context}\\n\\n\"\n",
    "    \" (Answer only from retrieval. Only cite sources that are used. Make your response conversational)\"\n",
    "    \"\\n\\nUser Question: {input}\"\n",
    ")\n",
    "\n",
    "def output_puller(inputs):\n",
    "    \"\"\"\"Output generator. Useful if your chain returns a dictionary with key 'output'\"\"\"\n",
    "    if isinstance(inputs, dict):\n",
    "        inputs = [inputs]\n",
    "    for token in inputs:\n",
    "        if token.get('output'):\n",
    "            yield token.get('output')\n",
    "\n",
    "#####################################################################\n",
    "## TODO: Pull in your desired RAG Chain. Memory not necessary\n",
    "\n",
    "## Chain 1 Specs: \"Hello World\" -> retrieval_chain \n",
    "##   -> {'input': <str>, 'context' : <str>}\n",
    "long_reorder = RunnableLambda(LongContextReorder().transform_documents)  ## GIVEN\n",
    "context_getter = (\n",
    "    lambda x: docs2str(\n",
    "        long_reorder.invoke(\n",
    "            docstore.similarity_search(x['input'], k=3)\n",
    "        )\n",
    "    )\n",
    ")\n",
    "retrieval_chain = {'input' : (lambda x: x)} | RunnableAssign({'context' : context_getter})\n",
    "\n",
    "## Chain 2 Specs: retrieval_chain -> generator_chain \n",
    "##   -> {\"output\" : <str>, ...} -> output_puller\n",
    "generator_chain = (\n",
    "    chat_prompt\n",
    "    | llm\n",
    ")\n",
    "generator_chain = {'output' : generator_chain} | RunnableLambda(output_puller)  ## GIVEN\n",
    "\n",
    "## END TODO\n",
    "#####################################################################\n",
    "\n",
    "rag_chain = retrieval_chain | generator_chain\n",
    "\n",
    "# pprint(rag_chain.invoke(\"Tell me something interesting!\"))\n",
    "for token in rag_chain.stream(\"Tell me something interesting about RAG!\"):\n",
    "    print(token, end=\"\")"
   ]
  },
  {
   "cell_type": "markdown",
   "id": "2b880971-d3a0-433f-a60b-e8a4edb754c8",
   "metadata": {},
   "source": [
    "<br>\n",
    "\n",
    "### **Step 3:** Generating Synthetic Question-Answer Pairs\n",
    "\n",
    "In this section, we can implement the first few part of our evaluation routine:\n",
    "\n",
    "- **Sample the RAG agent document pool to find two document chunks.**\n",
    "- **Use those two document chunks to generate a synthetic \"baseline\" question-answer pair.**\n",
    "- Use the RAG agent to generate its own answer.\n",
    "- Use a judge LLM to compare the two responses while grounding the synthetic generation as \"ground-truth correct.\"\n",
    "\n",
    "The chain should be a simple but powerful process that tests for the following objective:\n",
    "\n",
    "> Does my RAG chain outperform a narrow chatbot with limited document access?"
   ]
  },
  {
   "cell_type": "code",
   "execution_count": 6,
   "id": "ymzuX-DSNvL6",
   "metadata": {
    "id": "ymzuX-DSNvL6"
   },
   "outputs": [
    {
     "data": {
      "text/html": [
       "<pre style=\"white-space:pre;overflow-x:auto;line-height:normal;font-family:Menlo,'DejaVu Sans Mono',consolas,'Courier New',monospace\"><span style=\"font-weight: bold\">QA Pair </span><span style=\"color: #008080; text-decoration-color: #008080; font-weight: bold\">1</span>\n",
       "</pre>\n"
      ],
      "text/plain": [
       "\u001b[1mQA Pair \u001b[0m\u001b[1;36m1\u001b[0m\n"
      ]
     },
     "metadata": {},
     "output_type": "display_data"
    },
    {
     "data": {
      "text/html": [
       "<pre style=\"white-space:pre;overflow-x:auto;line-height:normal;font-family:Menlo,'DejaVu Sans Mono',consolas,'Courier New',monospace\"><span style=\"font-weight: bold\">Question: How does TrustRAG, a robust framework, enhance the performance of Retrieval-Augmented Generation (RAG) </span>\n",
       "<span style=\"font-weight: bold\">systems and improve their resistance to attacks?</span>\n",
       "</pre>\n"
      ],
      "text/plain": [
       "\u001b[1mQuestion: How does TrustRAG, a robust framework, enhance the performance of Retrieval-Augmented Generation \u001b[0m\u001b[1m(\u001b[0m\u001b[1mRAG\u001b[0m\u001b[1m)\u001b[0m\u001b[1m \u001b[0m\n",
       "\u001b[1msystems and improve their resistance to attacks?\u001b[0m\n"
      ]
     },
     "metadata": {},
     "output_type": "display_data"
    },
    {
     "data": {
      "text/html": [
       "<pre style=\"white-space:pre;overflow-x:auto;line-height:normal;font-family:Menlo,'DejaVu Sans Mono',consolas,'Courier New',monospace\"><span style=\"color: #76b900; text-decoration-color: #76b900; font-weight: bold\">Answer: TrustRAG is a two-stage defense mechanism designed to strengthen the robustness and trustworthiness of RAG </span>\n",
       "<span style=\"color: #76b900; text-decoration-color: #76b900; font-weight: bold\">systems. It employs K-means clustering to identify potential attack patterns in retrieved documents based on their </span>\n",
       "<span style=\"color: #76b900; text-decoration-color: #76b900; font-weight: bold\">semantic embeddings, effectively isolating suspicious content. Additionally, it uses cosine similarity and ROUGE </span>\n",
       "<span style=\"color: #76b900; text-decoration-color: #76b900; font-weight: bold\">metrics to detect malicious documents and resolve discrepancies between the model's internal knowledge and external</span>\n",
       "<span style=\"color: #76b900; text-decoration-color: #76b900; font-weight: bold\">information through a self-assessment process. TrustRAG functions as a plug-and-play, training-free module that </span>\n",
       "<span style=\"color: #76b900; text-decoration-color: #76b900; font-weight: bold\">integrates with any language model, maintaining high contextual relevance while providing substantial improvements </span>\n",
       "<span style=\"color: #76b900; text-decoration-color: #76b900; font-weight: bold\">in retrieval accuracy, efficiency, and attack resistance compared to existing approaches. It has been shown to </span>\n",
       "<span style=\"color: #76b900; text-decoration-color: #76b900; font-weight: bold\">improve runtime performance, achieving a runtime approximately two times greater than Vanilla RAG, which is a </span>\n",
       "<span style=\"color: #76b900; text-decoration-color: #76b900; font-weight: bold\">reasonable trade-off for the significant improvements in robustness and reliability offered by TrustRAG.</span>\n",
       "</pre>\n"
      ],
      "text/plain": [
       "\u001b[1;38;2;118;185;0mAnswer: TrustRAG is a two-stage defense mechanism designed to strengthen the robustness and trustworthiness of RAG \u001b[0m\n",
       "\u001b[1;38;2;118;185;0msystems. It employs K-means clustering to identify potential attack patterns in retrieved documents based on their \u001b[0m\n",
       "\u001b[1;38;2;118;185;0msemantic embeddings, effectively isolating suspicious content. Additionally, it uses cosine similarity and ROUGE \u001b[0m\n",
       "\u001b[1;38;2;118;185;0mmetrics to detect malicious documents and resolve discrepancies between the model's internal knowledge and external\u001b[0m\n",
       "\u001b[1;38;2;118;185;0minformation through a self-assessment process. TrustRAG functions as a plug-and-play, training-free module that \u001b[0m\n",
       "\u001b[1;38;2;118;185;0mintegrates with any language model, maintaining high contextual relevance while providing substantial improvements \u001b[0m\n",
       "\u001b[1;38;2;118;185;0min retrieval accuracy, efficiency, and attack resistance compared to existing approaches. It has been shown to \u001b[0m\n",
       "\u001b[1;38;2;118;185;0mimprove runtime performance, achieving a runtime approximately two times greater than Vanilla RAG, which is a \u001b[0m\n",
       "\u001b[1;38;2;118;185;0mreasonable trade-off for the significant improvements in robustness and reliability offered by TrustRAG.\u001b[0m\n"
      ]
     },
     "metadata": {},
     "output_type": "display_data"
    },
    {
     "name": "stdout",
     "output_type": "stream",
     "text": [
      "\n"
     ]
    },
    {
     "data": {
      "text/html": [
       "<pre style=\"white-space:pre;overflow-x:auto;line-height:normal;font-family:Menlo,'DejaVu Sans Mono',consolas,'Courier New',monospace\"><span style=\"font-weight: bold\">QA Pair </span><span style=\"color: #008080; text-decoration-color: #008080; font-weight: bold\">2</span>\n",
       "</pre>\n"
      ],
      "text/plain": [
       "\u001b[1mQA Pair \u001b[0m\u001b[1;36m2\u001b[0m\n"
      ]
     },
     "metadata": {},
     "output_type": "display_data"
    },
    {
     "data": {
      "text/html": [
       "<pre style=\"white-space:pre;overflow-x:auto;line-height:normal;font-family:Menlo,'DejaVu Sans Mono',consolas,'Courier New',monospace\"><span style=\"font-weight: bold\">Question: How can gender stereotypes in movie recommender systems lead to privacy issues and what kind of broader </span>\n",
       "<span style=\"font-weight: bold\">implications can this have on digital computational science?</span>\n",
       "</pre>\n"
      ],
      "text/plain": [
       "\u001b[1mQuestion: How can gender stereotypes in movie recommender systems lead to privacy issues and what kind of broader \u001b[0m\n",
       "\u001b[1mimplications can this have on digital computational science?\u001b[0m\n"
      ]
     },
     "metadata": {},
     "output_type": "display_data"
    },
    {
     "data": {
      "text/html": [
       "<pre style=\"white-space:pre;overflow-x:auto;line-height:normal;font-family:Menlo,'DejaVu Sans Mono',consolas,'Courier New',monospace\"><span style=\"color: #76b900; text-decoration-color: #76b900; font-weight: bold\">Answer: The document discusses a study that shows how gender stereotypes in movie recommender systems can lead to </span>\n",
       "<span style=\"color: #76b900; text-decoration-color: #76b900; font-weight: bold\">privacy issues by enabling attackers to determine users' gender, a private attribute, by exploiting these </span>\n",
       "<span style=\"color: #76b900; text-decoration-color: #76b900; font-weight: bold\">stereotypes and analyzing users' feedback data. The study also found that inference algorithms performed more </span>\n",
       "<span style=\"color: #76b900; text-decoration-color: #76b900; font-weight: bold\">effectively than relying solely on feedback data for gender inference. Additionally, the study quantified the </span>\n",
       "<span style=\"color: #76b900; text-decoration-color: #76b900; font-weight: bold\">extent of gender stereotypes to evaluate their broader impact on digital computational science. The document also </span>\n",
       "<span style=\"color: #76b900; text-decoration-color: #76b900; font-weight: bold\">mentions that demographic biases such as gender bias can be introduced into the system for business purposes, and </span>\n",
       "<span style=\"color: #76b900; text-decoration-color: #76b900; font-weight: bold\">this can result in issues such as filter bubbles or feedback loop effects, which can confine users to repetitive, </span>\n",
       "<span style=\"color: #76b900; text-decoration-color: #76b900; font-weight: bold\">similar recommendations and limit their exposure to diverse content, possibly reinforcing stereotypical behavior. </span>\n",
       "<span style=\"color: #76b900; text-decoration-color: #76b900; font-weight: bold\">The study concludes that movie recommender systems often contain gender stereotypes in their data, which raises </span>\n",
       "<span style=\"color: #76b900; text-decoration-color: #76b900; font-weight: bold\">significant privacy concerns.</span>\n",
       "</pre>\n"
      ],
      "text/plain": [
       "\u001b[1;38;2;118;185;0mAnswer: The document discusses a study that shows how gender stereotypes in movie recommender systems can lead to \u001b[0m\n",
       "\u001b[1;38;2;118;185;0mprivacy issues by enabling attackers to determine users' gender, a private attribute, by exploiting these \u001b[0m\n",
       "\u001b[1;38;2;118;185;0mstereotypes and analyzing users' feedback data. The study also found that inference algorithms performed more \u001b[0m\n",
       "\u001b[1;38;2;118;185;0meffectively than relying solely on feedback data for gender inference. Additionally, the study quantified the \u001b[0m\n",
       "\u001b[1;38;2;118;185;0mextent of gender stereotypes to evaluate their broader impact on digital computational science. The document also \u001b[0m\n",
       "\u001b[1;38;2;118;185;0mmentions that demographic biases such as gender bias can be introduced into the system for business purposes, and \u001b[0m\n",
       "\u001b[1;38;2;118;185;0mthis can result in issues such as filter bubbles or feedback loop effects, which can confine users to repetitive, \u001b[0m\n",
       "\u001b[1;38;2;118;185;0msimilar recommendations and limit their exposure to diverse content, possibly reinforcing stereotypical behavior. \u001b[0m\n",
       "\u001b[1;38;2;118;185;0mThe study concludes that movie recommender systems often contain gender stereotypes in their data, which raises \u001b[0m\n",
       "\u001b[1;38;2;118;185;0msignificant privacy concerns.\u001b[0m\n"
      ]
     },
     "metadata": {},
     "output_type": "display_data"
    },
    {
     "name": "stdout",
     "output_type": "stream",
     "text": [
      "\n"
     ]
    },
    {
     "data": {
      "text/html": [
       "<pre style=\"white-space:pre;overflow-x:auto;line-height:normal;font-family:Menlo,'DejaVu Sans Mono',consolas,'Courier New',monospace\"><span style=\"font-weight: bold\">QA Pair </span><span style=\"color: #008080; text-decoration-color: #008080; font-weight: bold\">3</span>\n",
       "</pre>\n"
      ],
      "text/plain": [
       "\u001b[1mQA Pair \u001b[0m\u001b[1;36m3\u001b[0m\n"
      ]
     },
     "metadata": {},
     "output_type": "display_data"
    },
    {
     "data": {
      "text/html": [
       "<pre style=\"white-space:pre;overflow-x:auto;line-height:normal;font-family:Menlo,'DejaVu Sans Mono',consolas,'Courier New',monospace\"><span style=\"font-weight: bold\">Question: How does TrustRAG, a defense framework for Retrieval-Augmented Generation (RAG) systems, enhance </span>\n",
       "<span style=\"font-weight: bold\">robustness and trustworthiness in the face of corpus poisoning attacks?</span>\n",
       "</pre>\n"
      ],
      "text/plain": [
       "\u001b[1mQuestion: How does TrustRAG, a defense framework for Retrieval-Augmented Generation \u001b[0m\u001b[1m(\u001b[0m\u001b[1mRAG\u001b[0m\u001b[1m)\u001b[0m\u001b[1m systems, enhance \u001b[0m\n",
       "\u001b[1mrobustness and trustworthiness in the face of corpus poisoning attacks?\u001b[0m\n"
      ]
     },
     "metadata": {},
     "output_type": "display_data"
    },
    {
     "data": {
      "text/html": [
       "<pre style=\"white-space:pre;overflow-x:auto;line-height:normal;font-family:Menlo,'DejaVu Sans Mono',consolas,'Courier New',monospace\"><span style=\"color: #76b900; text-decoration-color: #76b900; font-weight: bold\">Answer: TrustRAG is a two-stage defense mechanism aimed at countering attacks involving multiple maliciously </span>\n",
       "<span style=\"color: #76b900; text-decoration-color: #76b900; font-weight: bold\">injected documents in RAG systems. It employs K-means filtering to reduce the presence of malicious documents and </span>\n",
       "<span style=\"color: #76b900; text-decoration-color: #76b900; font-weight: bold\">uses both internal and external knowledge sources to resolve conflicts and mitigate the impact of these attacks. By</span>\n",
       "<span style=\"color: #76b900; text-decoration-color: #76b900; font-weight: bold\">comprehensively evaluating TrustRAG across benchmarks, it has been demonstrated that it outperforms existing </span>\n",
       "<span style=\"color: #76b900; text-decoration-color: #76b900; font-weight: bold\">defenses, maintaining high accuracy even under aggressive poisoning scenarios where traditional approaches fail. </span>\n",
       "<span style=\"color: #76b900; text-decoration-color: #76b900; font-weight: bold\">TrustRAG's plug-and-play architecture allows for immediate deployment with any Large Language Models (LLMs).</span>\n",
       "</pre>\n"
      ],
      "text/plain": [
       "\u001b[1;38;2;118;185;0mAnswer: TrustRAG is a two-stage defense mechanism aimed at countering attacks involving multiple maliciously \u001b[0m\n",
       "\u001b[1;38;2;118;185;0minjected documents in RAG systems. It employs K-means filtering to reduce the presence of malicious documents and \u001b[0m\n",
       "\u001b[1;38;2;118;185;0muses both internal and external knowledge sources to resolve conflicts and mitigate the impact of these attacks. By\u001b[0m\n",
       "\u001b[1;38;2;118;185;0mcomprehensively evaluating TrustRAG across benchmarks, it has been demonstrated that it outperforms existing \u001b[0m\n",
       "\u001b[1;38;2;118;185;0mdefenses, maintaining high accuracy even under aggressive poisoning scenarios where traditional approaches fail. \u001b[0m\n",
       "\u001b[1;38;2;118;185;0mTrustRAG's plug-and-play architecture allows for immediate deployment with any Large Language Models \u001b[0m\u001b[1;38;2;118;185;0m(\u001b[0m\u001b[1;38;2;118;185;0mLLMs\u001b[0m\u001b[1;38;2;118;185;0m)\u001b[0m\u001b[1;38;2;118;185;0m.\u001b[0m\n"
      ]
     },
     "metadata": {},
     "output_type": "display_data"
    },
    {
     "name": "stdout",
     "output_type": "stream",
     "text": [
      "\n"
     ]
    }
   ],
   "source": [
    "import random\n",
    "\n",
    "num_questions = 3\n",
    "synth_questions = []\n",
    "synth_answers = []\n",
    "\n",
    "simple_prompt = ChatPromptTemplate.from_messages([('system', '{system}'), ('user', 'INPUT: {input}')])\n",
    "\n",
    "for i in range(num_questions):\n",
    "    doc1, doc2 = random.sample(docs, 2)\n",
    "    sys_msg = (\n",
    "        \"Use the documents provided by the user to generate an interesting question-answer pair.\"\n",
    "        \" Try to use both documents if possible, and rely more on the document bodies than the summary.\"\n",
    "        \" Use the format:\\nQuestion: (good question, 1-3 sentences, detailed)\\n\\nAnswer: (answer derived from the documents)\"\n",
    "        \" DO NOT SAY: \\\"Here is an interesting question pair\\\" or similar. FOLLOW FORMAT!\"\n",
    "    )\n",
    "    usr_msg = (\n",
    "        f\"Document1: {format_chunk(doc1)}\\n\\n\"\n",
    "        f\"Document2: {format_chunk(doc2)}\"\n",
    "    )\n",
    "\n",
    "    qa_pair = (simple_prompt | llm).invoke({'system': sys_msg, 'input': usr_msg})\n",
    "    synth_questions += [qa_pair.split('\\n\\n')[0]]\n",
    "    synth_answers += [qa_pair.split('\\n\\n')[1]]\n",
    "    pprint2(f\"QA Pair {i+1}\")\n",
    "    pprint2(synth_questions[-1])\n",
    "    pprint(synth_answers[-1])\n",
    "    print()"
   ]
  },
  {
   "cell_type": "markdown",
   "id": "c5Q-3X4vS98P",
   "metadata": {
    "id": "c5Q-3X4vS98P"
   },
   "source": [
    "<br>\n",
    "\n",
    "### **Step 4:** Answer The Synthetic Questions\n",
    "\n",
    "In this section, we can implement the third part of our evaluation routine:\n",
    "\n",
    "- Sample the RAG agent document pool to find two document chunks.\n",
    "- Use those two document chunks to generate a synthetic \"baseline\" question-answer pair.\n",
    "- **Use the RAG agent to generate its own answer.**\n",
    "- Use a judge LLM to compare the two responses while grounding the synthetic generation as \"ground-truth correct.\"\n",
    "\n",
    "The chain should be a simple but powerful process that tests for the following objective:\n",
    "\n",
    "> Does my RAG chain outperform a narrow chatbot with limited document access?"
   ]
  },
  {
   "cell_type": "code",
   "execution_count": 7,
   "id": "7T3GSwhZPHjF",
   "metadata": {
    "id": "7T3GSwhZPHjF"
   },
   "outputs": [
    {
     "data": {
      "text/html": [
       "<pre style=\"white-space:pre;overflow-x:auto;line-height:normal;font-family:Menlo,'DejaVu Sans Mono',consolas,'Courier New',monospace\"><span style=\"font-weight: bold\">QA Pair </span><span style=\"color: #008080; text-decoration-color: #008080; font-weight: bold\">1</span>\n",
       "<span style=\"font-weight: bold\">Question: How does TrustRAG, a robust framework, enhance the performance of Retrieval-Augmented Generation (RAG) </span>\n",
       "<span style=\"font-weight: bold\">systems and improve their resistance to attacks?</span>\n",
       "\n",
       "</pre>\n"
      ],
      "text/plain": [
       "\u001b[1mQA Pair \u001b[0m\u001b[1;36m1\u001b[0m\n",
       "\u001b[1mQuestion: How does TrustRAG, a robust framework, enhance the performance of Retrieval-Augmented Generation \u001b[0m\u001b[1m(\u001b[0m\u001b[1mRAG\u001b[0m\u001b[1m)\u001b[0m\u001b[1m \u001b[0m\n",
       "\u001b[1msystems and improve their resistance to attacks?\u001b[0m\n",
       "\n"
      ]
     },
     "metadata": {},
     "output_type": "display_data"
    },
    {
     "data": {
      "text/html": [
       "<pre style=\"white-space:pre;overflow-x:auto;line-height:normal;font-family:Menlo,'DejaVu Sans Mono',consolas,'Courier New',monospace\"><span style=\"color: #76b900; text-decoration-color: #76b900; font-weight: bold\">RAG Answer: TrustRAG is a robust framework designed to enhance the performance of Retrieval-Augmented Generation </span>\n",
       "<span style=\"color: #76b900; text-decoration-color: #76b900; font-weight: bold\">(RAG) systems and improve their resistance to attacks. According to the abstract of </span><span style=\"color: #008000; text-decoration-color: #008000\">\"TrustRAG: Enhancing Robustness</span>\n",
       "<span style=\"color: #008000; text-decoration-color: #008000\">and Trustworthiness in RAG,\"</span><span style=\"color: #76b900; text-decoration-color: #76b900; font-weight: bold\"> the framework aims to address the vulnerabilities of RAG systems to corpus poisoning </span>\n",
       "<span style=\"color: #76b900; text-decoration-color: #76b900; font-weight: bold\">attacks, which can significantly degrade the performance of large language models (LLMs) through the injection of </span>\n",
       "<span style=\"color: #76b900; text-decoration-color: #76b900; font-weight: bold\">malicious content.</span>\n",
       "\n",
       "<span style=\"color: #76b900; text-decoration-color: #76b900; font-weight: bold\">TrustRAG implements a two-stage defense mechanism to filter compromised and irrelevant content before it reaches </span>\n",
       "<span style=\"color: #76b900; text-decoration-color: #76b900; font-weight: bold\">the language model. The first stage employs K-means clustering to identify potential attack patterns in retrieved </span>\n",
       "<span style=\"color: #76b900; text-decoration-color: #76b900; font-weight: bold\">documents based on their semantic embeddings, effectively isolating suspicious content.</span>\n",
       "\n",
       "<span style=\"color: #76b900; text-decoration-color: #76b900; font-weight: bold\">The second stage involves the use of an objective function to evaluate the quality of the answer produced by the </span>\n",
       "<span style=\"color: #76b900; text-decoration-color: #76b900; font-weight: bold\">LLM based on the k retrieved texts for the target question. The objective function is large when the answer </span>\n",
       "<span style=\"color: #76b900; text-decoration-color: #76b900; font-weight: bold\">produced by the LLM is the target answer, indicating that the retrieved texts are relevant and trustworthy.</span>\n",
       "\n",
       "<span style=\"color: #76b900; text-decoration-color: #76b900; font-weight: bold\">According to the paper, TrustRAG conducts an extensive evaluation on multiple knowledge databases and LLMs, </span>\n",
       "<span style=\"color: #76b900; text-decoration-color: #76b900; font-weight: bold\">comparing it with advanced RAG systems. The results show that TrustRAG decreases the attack success rate while </span>\n",
       "<span style=\"color: #76b900; text-decoration-color: #76b900; font-weight: bold\">maintaining high response accuracy on different popular RAG benchmarks and attack settings.</span>\n",
       "\n",
       "<span style=\"color: #76b900; text-decoration-color: #76b900; font-weight: bold\">In summary, TrustRAG enhances the performance of RAG systems by implementing a two-stage defense mechanism that </span>\n",
       "<span style=\"color: #76b900; text-decoration-color: #76b900; font-weight: bold\">filters compromised and irrelevant content, improving the resistance of RAG systems to attacks and maintaining high</span>\n",
       "<span style=\"color: #76b900; text-decoration-color: #76b900; font-weight: bold\">response accuracy.</span>\n",
       "\n",
       "<span style=\"color: #76b900; text-decoration-color: #76b900; font-weight: bold\">Sources:</span>\n",
       "\n",
       "<span style=\"color: #76b900; text-decoration-color: #76b900; font-weight: bold\">* TrustRAG: Enhancing Robustness and Trustworthiness in RAG, Huichi Zhou, Kin-Hei Lee, Zhonghao Zhan, Yue Chen, </span>\n",
       "<span style=\"color: #76b900; text-decoration-color: #76b900; font-weight: bold\">Zhenhao Li.</span>\n",
       "<span style=\"color: #76b900; text-decoration-color: #76b900; font-weight: bold\">* Retrieval augmented generation. Zhou et al., </span><span style=\"color: #008080; text-decoration-color: #008080; font-weight: bold\">2024</span><span style=\"color: #76b900; text-decoration-color: #76b900; font-weight: bold\">.</span>\n",
       "<span style=\"color: #76b900; text-decoration-color: #76b900; font-weight: bold\">* Large language models. Lewis et al., </span><span style=\"color: #008080; text-decoration-color: #008080; font-weight: bold\">2020</span><span style=\"color: #76b900; text-decoration-color: #76b900; font-weight: bold\">; Guu et al., </span><span style=\"color: #008080; text-decoration-color: #008080; font-weight: bold\">2020</span><span style=\"color: #76b900; text-decoration-color: #76b900; font-weight: bold\">; Izacard et al., </span><span style=\"color: #008080; text-decoration-color: #008080; font-weight: bold\">2023</span><span style=\"color: #76b900; text-decoration-color: #76b900; font-weight: bold\">.</span>\n",
       "<span style=\"color: #76b900; text-decoration-color: #76b900; font-weight: bold\">* RAG methods. Zheng et al., </span><span style=\"color: #008080; text-decoration-color: #008080; font-weight: bold\">2023</span><span style=\"color: #76b900; text-decoration-color: #76b900; font-weight: bold\">; Dai et al., </span><span style=\"color: #008080; text-decoration-color: #008080; font-weight: bold\">2022</span><span style=\"color: #76b900; text-decoration-color: #76b900; font-weight: bold\">; Glass et al., </span><span style=\"color: #008080; text-decoration-color: #008080; font-weight: bold\">2022</span><span style=\"color: #76b900; text-decoration-color: #76b900; font-weight: bold\">; Chen et al.</span>\n",
       "\n",
       "</pre>\n"
      ],
      "text/plain": [
       "\u001b[1;38;2;118;185;0mRAG Answer: TrustRAG is a robust framework designed to enhance the performance of Retrieval-Augmented Generation \u001b[0m\n",
       "\u001b[1;38;2;118;185;0m(\u001b[0m\u001b[1;38;2;118;185;0mRAG\u001b[0m\u001b[1;38;2;118;185;0m)\u001b[0m\u001b[1;38;2;118;185;0m systems and improve their resistance to attacks. According to the abstract of \u001b[0m\u001b[32m\"TrustRAG: Enhancing Robustness\u001b[0m\n",
       "\u001b[32mand Trustworthiness in RAG,\"\u001b[0m\u001b[1;38;2;118;185;0m the framework aims to address the vulnerabilities of RAG systems to corpus poisoning \u001b[0m\n",
       "\u001b[1;38;2;118;185;0mattacks, which can significantly degrade the performance of large language models \u001b[0m\u001b[1;38;2;118;185;0m(\u001b[0m\u001b[1;38;2;118;185;0mLLMs\u001b[0m\u001b[1;38;2;118;185;0m)\u001b[0m\u001b[1;38;2;118;185;0m through the injection of \u001b[0m\n",
       "\u001b[1;38;2;118;185;0mmalicious content.\u001b[0m\n",
       "\n",
       "\u001b[1;38;2;118;185;0mTrustRAG implements a two-stage defense mechanism to filter compromised and irrelevant content before it reaches \u001b[0m\n",
       "\u001b[1;38;2;118;185;0mthe language model. The first stage employs K-means clustering to identify potential attack patterns in retrieved \u001b[0m\n",
       "\u001b[1;38;2;118;185;0mdocuments based on their semantic embeddings, effectively isolating suspicious content.\u001b[0m\n",
       "\n",
       "\u001b[1;38;2;118;185;0mThe second stage involves the use of an objective function to evaluate the quality of the answer produced by the \u001b[0m\n",
       "\u001b[1;38;2;118;185;0mLLM based on the k retrieved texts for the target question. The objective function is large when the answer \u001b[0m\n",
       "\u001b[1;38;2;118;185;0mproduced by the LLM is the target answer, indicating that the retrieved texts are relevant and trustworthy.\u001b[0m\n",
       "\n",
       "\u001b[1;38;2;118;185;0mAccording to the paper, TrustRAG conducts an extensive evaluation on multiple knowledge databases and LLMs, \u001b[0m\n",
       "\u001b[1;38;2;118;185;0mcomparing it with advanced RAG systems. The results show that TrustRAG decreases the attack success rate while \u001b[0m\n",
       "\u001b[1;38;2;118;185;0mmaintaining high response accuracy on different popular RAG benchmarks and attack settings.\u001b[0m\n",
       "\n",
       "\u001b[1;38;2;118;185;0mIn summary, TrustRAG enhances the performance of RAG systems by implementing a two-stage defense mechanism that \u001b[0m\n",
       "\u001b[1;38;2;118;185;0mfilters compromised and irrelevant content, improving the resistance of RAG systems to attacks and maintaining high\u001b[0m\n",
       "\u001b[1;38;2;118;185;0mresponse accuracy.\u001b[0m\n",
       "\n",
       "\u001b[1;38;2;118;185;0mSources:\u001b[0m\n",
       "\n",
       "\u001b[1;38;2;118;185;0m* TrustRAG: Enhancing Robustness and Trustworthiness in RAG, Huichi Zhou, Kin-Hei Lee, Zhonghao Zhan, Yue Chen, \u001b[0m\n",
       "\u001b[1;38;2;118;185;0mZhenhao Li.\u001b[0m\n",
       "\u001b[1;38;2;118;185;0m* Retrieval augmented generation. Zhou et al., \u001b[0m\u001b[1;36m2024\u001b[0m\u001b[1;38;2;118;185;0m.\u001b[0m\n",
       "\u001b[1;38;2;118;185;0m* Large language models. Lewis et al., \u001b[0m\u001b[1;36m2020\u001b[0m\u001b[1;38;2;118;185;0m; Guu et al., \u001b[0m\u001b[1;36m2020\u001b[0m\u001b[1;38;2;118;185;0m; Izacard et al., \u001b[0m\u001b[1;36m2023\u001b[0m\u001b[1;38;2;118;185;0m.\u001b[0m\n",
       "\u001b[1;38;2;118;185;0m* RAG methods. Zheng et al., \u001b[0m\u001b[1;36m2023\u001b[0m\u001b[1;38;2;118;185;0m; Dai et al., \u001b[0m\u001b[1;36m2022\u001b[0m\u001b[1;38;2;118;185;0m; Glass et al., \u001b[0m\u001b[1;36m2022\u001b[0m\u001b[1;38;2;118;185;0m; Chen et al.\u001b[0m\n",
       "\n"
      ]
     },
     "metadata": {},
     "output_type": "display_data"
    },
    {
     "data": {
      "text/html": [
       "<pre style=\"white-space:pre;overflow-x:auto;line-height:normal;font-family:Menlo,'DejaVu Sans Mono',consolas,'Courier New',monospace\"><span style=\"font-weight: bold\">QA Pair </span><span style=\"color: #008080; text-decoration-color: #008080; font-weight: bold\">2</span>\n",
       "<span style=\"font-weight: bold\">Question: How can gender stereotypes in movie recommender systems lead to privacy issues and what kind of broader </span>\n",
       "<span style=\"font-weight: bold\">implications can this have on digital computational science?</span>\n",
       "\n",
       "</pre>\n"
      ],
      "text/plain": [
       "\u001b[1mQA Pair \u001b[0m\u001b[1;36m2\u001b[0m\n",
       "\u001b[1mQuestion: How can gender stereotypes in movie recommender systems lead to privacy issues and what kind of broader \u001b[0m\n",
       "\u001b[1mimplications can this have on digital computational science?\u001b[0m\n",
       "\n"
      ]
     },
     "metadata": {},
     "output_type": "display_data"
    },
    {
     "data": {
      "text/html": [
       "<pre style=\"white-space:pre;overflow-x:auto;line-height:normal;font-family:Menlo,'DejaVu Sans Mono',consolas,'Courier New',monospace\"><span style=\"color: #76b900; text-decoration-color: #76b900; font-weight: bold\">RAG Answer: Gender stereotypes in movie recommender systems can lead to privacy issues in a couple of ways. First, </span>\n",
       "<span style=\"color: #76b900; text-decoration-color: #76b900; font-weight: bold\">based on users' demographic data, demographic biases such as gender bias may be introduced into the system for </span>\n",
       "<span style=\"color: #76b900; text-decoration-color: #76b900; font-weight: bold\">business purposes [</span><span style=\"color: #008080; text-decoration-color: #008080; font-weight: bold\">42</span><span style=\"color: #76b900; text-decoration-color: #76b900; font-weight: bold\">, </span><span style=\"color: #008080; text-decoration-color: #008080; font-weight: bold\">43</span><span style=\"color: #76b900; text-decoration-color: #76b900; font-weight: bold\">, </span><span style=\"color: #008080; text-decoration-color: #008080; font-weight: bold\">44</span><span style=\"color: #76b900; text-decoration-color: #76b900; font-weight: bold\">]. For example, action movies are often promoted more to male audiences, while </span>\n",
       "<span style=\"color: #76b900; text-decoration-color: #76b900; font-weight: bold\">romantic animated movies are marketed with themes that attract female audiences. These practices can create </span>\n",
       "<span style=\"color: #76b900; text-decoration-color: #76b900; font-weight: bold\">gender-specific viewing patterns, reducing the variety of genres each gender gets to see and possibly restricting </span>\n",
       "<span style=\"color: #76b900; text-decoration-color: #76b900; font-weight: bold\">individual preferences. </span>\n",
       "\n",
       "<span style=\"color: #76b900; text-decoration-color: #76b900; font-weight: bold\">Moreover, the potential for gender bias in the system can also result in issues such as filter bubbles or feedback </span>\n",
       "<span style=\"color: #76b900; text-decoration-color: #76b900; font-weight: bold\">loop effects. These phenomena confine users to repetitive, similar recommendations, thereby limiting their exposure</span>\n",
       "<span style=\"color: #76b900; text-decoration-color: #76b900; font-weight: bold\">to diverse content and reinforcing stereotypical behavior [</span><span style=\"color: #008080; text-decoration-color: #008080; font-weight: bold\">45</span><span style=\"color: #76b900; text-decoration-color: #76b900; font-weight: bold\">]. </span>\n",
       "\n",
       "<span style=\"color: #76b900; text-decoration-color: #76b900; font-weight: bold\">In a specific attack scenario, an attacker can determine users' gender, a private attribute, by exploiting gender </span>\n",
       "<span style=\"color: #76b900; text-decoration-color: #76b900; font-weight: bold\">stereotypes about movie preferences and analyzing users' feedback data, which is either publicly available or </span>\n",
       "<span style=\"color: #76b900; text-decoration-color: #76b900; font-weight: bold\">observed within the system [</span><span style=\"color: #008080; text-decoration-color: #008080; font-weight: bold\">42</span><span style=\"color: #76b900; text-decoration-color: #76b900; font-weight: bold\">, </span><span style=\"color: #008080; text-decoration-color: #008080; font-weight: bold\">44</span><span style=\"color: #76b900; text-decoration-color: #76b900; font-weight: bold\">]. This is done in two phases. In the first phase, a user study involving </span><span style=\"color: #008080; text-decoration-color: #008080; font-weight: bold\">630</span><span style=\"color: #76b900; text-decoration-color: #76b900; font-weight: bold\"> </span>\n",
       "<span style=\"color: #76b900; text-decoration-color: #76b900; font-weight: bold\">participants identified gender stereotypes associated with movie genres, which often influence viewing choices. In </span>\n",
       "<span style=\"color: #76b900; text-decoration-color: #76b900; font-weight: bold\">the second phase, four inference algorithms were applied to detect gender stereotypes by combining the findings </span>\n",
       "<span style=\"color: #76b900; text-decoration-color: #76b900; font-weight: bold\">from the first phase with users' feedback data [</span><span style=\"color: #008080; text-decoration-color: #008080; font-weight: bold\">42</span><span style=\"color: #76b900; text-decoration-color: #76b900; font-weight: bold\">, </span><span style=\"color: #008080; text-decoration-color: #008080; font-weight: bold\">44</span><span style=\"color: #76b900; text-decoration-color: #76b900; font-weight: bold\">]. Results showed that these algorithms performed more </span>\n",
       "<span style=\"color: #76b900; text-decoration-color: #76b900; font-weight: bold\">effectively than relying solely on feedback data for gender inference. </span>\n",
       "\n",
       "<span style=\"color: #76b900; text-decoration-color: #76b900; font-weight: bold\">The broader implications of this on digital computational science are significant. The quantification of gender </span>\n",
       "<span style=\"color: #76b900; text-decoration-color: #76b900; font-weight: bold\">stereotypes' extent can evaluate their broader impact on digital computational science [</span><span style=\"color: #008080; text-decoration-color: #008080; font-weight: bold\">42</span><span style=\"color: #76b900; text-decoration-color: #76b900; font-weight: bold\">, </span><span style=\"color: #008080; text-decoration-color: #008080; font-weight: bold\">44</span><span style=\"color: #76b900; text-decoration-color: #76b900; font-weight: bold\">]. The presence of </span>\n",
       "<span style=\"color: #76b900; text-decoration-color: #76b900; font-weight: bold\">gender stereotypes in movie recommender systems can perpetuate prevailing social norms, leading to a lack of </span>\n",
       "<span style=\"color: #76b900; text-decoration-color: #76b900; font-weight: bold\">diversity in content exposure and potentially reinforcing harmful stereotypes. Therefore, addressing these issues </span>\n",
       "<span style=\"color: #76b900; text-decoration-color: #76b900; font-weight: bold\">is crucial for maintaining user privacy and promoting diversity and inclusivity in digital computational science.</span>\n",
       "\n",
       "<span style=\"color: #76b900; text-decoration-color: #76b900; font-weight: bold\">(Cited Sources: [</span><span style=\"color: #008080; text-decoration-color: #008080; font-weight: bold\">42</span><span style=\"color: #76b900; text-decoration-color: #76b900; font-weight: bold\">, </span><span style=\"color: #008080; text-decoration-color: #008080; font-weight: bold\">43</span><span style=\"color: #76b900; text-decoration-color: #76b900; font-weight: bold\">, </span><span style=\"color: #008080; text-decoration-color: #008080; font-weight: bold\">44</span><span style=\"color: #76b900; text-decoration-color: #76b900; font-weight: bold\">, </span><span style=\"color: #008080; text-decoration-color: #008080; font-weight: bold\">45</span><span style=\"color: #76b900; text-decoration-color: #76b900; font-weight: bold\">] from A Closer Look on Gender Stereotypes in Movie Recommender Systems and Their </span>\n",
       "<span style=\"color: #76b900; text-decoration-color: #76b900; font-weight: bold\">Implications with Privacy)</span>\n",
       "\n",
       "</pre>\n"
      ],
      "text/plain": [
       "\u001b[1;38;2;118;185;0mRAG Answer: Gender stereotypes in movie recommender systems can lead to privacy issues in a couple of ways. First, \u001b[0m\n",
       "\u001b[1;38;2;118;185;0mbased on users' demographic data, demographic biases such as gender bias may be introduced into the system for \u001b[0m\n",
       "\u001b[1;38;2;118;185;0mbusiness purposes \u001b[0m\u001b[1;38;2;118;185;0m[\u001b[0m\u001b[1;36m42\u001b[0m\u001b[1;38;2;118;185;0m, \u001b[0m\u001b[1;36m43\u001b[0m\u001b[1;38;2;118;185;0m, \u001b[0m\u001b[1;36m44\u001b[0m\u001b[1;38;2;118;185;0m]\u001b[0m\u001b[1;38;2;118;185;0m. For example, action movies are often promoted more to male audiences, while \u001b[0m\n",
       "\u001b[1;38;2;118;185;0mromantic animated movies are marketed with themes that attract female audiences. These practices can create \u001b[0m\n",
       "\u001b[1;38;2;118;185;0mgender-specific viewing patterns, reducing the variety of genres each gender gets to see and possibly restricting \u001b[0m\n",
       "\u001b[1;38;2;118;185;0mindividual preferences. \u001b[0m\n",
       "\n",
       "\u001b[1;38;2;118;185;0mMoreover, the potential for gender bias in the system can also result in issues such as filter bubbles or feedback \u001b[0m\n",
       "\u001b[1;38;2;118;185;0mloop effects. These phenomena confine users to repetitive, similar recommendations, thereby limiting their exposure\u001b[0m\n",
       "\u001b[1;38;2;118;185;0mto diverse content and reinforcing stereotypical behavior \u001b[0m\u001b[1;38;2;118;185;0m[\u001b[0m\u001b[1;36m45\u001b[0m\u001b[1;38;2;118;185;0m]\u001b[0m\u001b[1;38;2;118;185;0m. \u001b[0m\n",
       "\n",
       "\u001b[1;38;2;118;185;0mIn a specific attack scenario, an attacker can determine users' gender, a private attribute, by exploiting gender \u001b[0m\n",
       "\u001b[1;38;2;118;185;0mstereotypes about movie preferences and analyzing users' feedback data, which is either publicly available or \u001b[0m\n",
       "\u001b[1;38;2;118;185;0mobserved within the system \u001b[0m\u001b[1;38;2;118;185;0m[\u001b[0m\u001b[1;36m42\u001b[0m\u001b[1;38;2;118;185;0m, \u001b[0m\u001b[1;36m44\u001b[0m\u001b[1;38;2;118;185;0m]\u001b[0m\u001b[1;38;2;118;185;0m. This is done in two phases. In the first phase, a user study involving \u001b[0m\u001b[1;36m630\u001b[0m\u001b[1;38;2;118;185;0m \u001b[0m\n",
       "\u001b[1;38;2;118;185;0mparticipants identified gender stereotypes associated with movie genres, which often influence viewing choices. In \u001b[0m\n",
       "\u001b[1;38;2;118;185;0mthe second phase, four inference algorithms were applied to detect gender stereotypes by combining the findings \u001b[0m\n",
       "\u001b[1;38;2;118;185;0mfrom the first phase with users' feedback data \u001b[0m\u001b[1;38;2;118;185;0m[\u001b[0m\u001b[1;36m42\u001b[0m\u001b[1;38;2;118;185;0m, \u001b[0m\u001b[1;36m44\u001b[0m\u001b[1;38;2;118;185;0m]\u001b[0m\u001b[1;38;2;118;185;0m. Results showed that these algorithms performed more \u001b[0m\n",
       "\u001b[1;38;2;118;185;0meffectively than relying solely on feedback data for gender inference. \u001b[0m\n",
       "\n",
       "\u001b[1;38;2;118;185;0mThe broader implications of this on digital computational science are significant. The quantification of gender \u001b[0m\n",
       "\u001b[1;38;2;118;185;0mstereotypes' extent can evaluate their broader impact on digital computational science \u001b[0m\u001b[1;38;2;118;185;0m[\u001b[0m\u001b[1;36m42\u001b[0m\u001b[1;38;2;118;185;0m, \u001b[0m\u001b[1;36m44\u001b[0m\u001b[1;38;2;118;185;0m]\u001b[0m\u001b[1;38;2;118;185;0m. The presence of \u001b[0m\n",
       "\u001b[1;38;2;118;185;0mgender stereotypes in movie recommender systems can perpetuate prevailing social norms, leading to a lack of \u001b[0m\n",
       "\u001b[1;38;2;118;185;0mdiversity in content exposure and potentially reinforcing harmful stereotypes. Therefore, addressing these issues \u001b[0m\n",
       "\u001b[1;38;2;118;185;0mis crucial for maintaining user privacy and promoting diversity and inclusivity in digital computational science.\u001b[0m\n",
       "\n",
       "\u001b[1;38;2;118;185;0m(\u001b[0m\u001b[1;38;2;118;185;0mCited Sources: \u001b[0m\u001b[1;38;2;118;185;0m[\u001b[0m\u001b[1;36m42\u001b[0m\u001b[1;38;2;118;185;0m, \u001b[0m\u001b[1;36m43\u001b[0m\u001b[1;38;2;118;185;0m, \u001b[0m\u001b[1;36m44\u001b[0m\u001b[1;38;2;118;185;0m, \u001b[0m\u001b[1;36m45\u001b[0m\u001b[1;38;2;118;185;0m]\u001b[0m\u001b[1;38;2;118;185;0m from A Closer Look on Gender Stereotypes in Movie Recommender Systems and Their \u001b[0m\n",
       "\u001b[1;38;2;118;185;0mImplications with Privacy\u001b[0m\u001b[1;38;2;118;185;0m)\u001b[0m\n",
       "\n"
      ]
     },
     "metadata": {},
     "output_type": "display_data"
    },
    {
     "data": {
      "text/html": [
       "<pre style=\"white-space:pre;overflow-x:auto;line-height:normal;font-family:Menlo,'DejaVu Sans Mono',consolas,'Courier New',monospace\"><span style=\"font-weight: bold\">QA Pair </span><span style=\"color: #008080; text-decoration-color: #008080; font-weight: bold\">3</span>\n",
       "<span style=\"font-weight: bold\">Question: How does TrustRAG, a defense framework for Retrieval-Augmented Generation (RAG) systems, enhance </span>\n",
       "<span style=\"font-weight: bold\">robustness and trustworthiness in the face of corpus poisoning attacks?</span>\n",
       "\n",
       "</pre>\n"
      ],
      "text/plain": [
       "\u001b[1mQA Pair \u001b[0m\u001b[1;36m3\u001b[0m\n",
       "\u001b[1mQuestion: How does TrustRAG, a defense framework for Retrieval-Augmented Generation \u001b[0m\u001b[1m(\u001b[0m\u001b[1mRAG\u001b[0m\u001b[1m)\u001b[0m\u001b[1m systems, enhance \u001b[0m\n",
       "\u001b[1mrobustness and trustworthiness in the face of corpus poisoning attacks?\u001b[0m\n",
       "\n"
      ]
     },
     "metadata": {},
     "output_type": "display_data"
    },
    {
     "data": {
      "text/html": [
       "<pre style=\"white-space:pre;overflow-x:auto;line-height:normal;font-family:Menlo,'DejaVu Sans Mono',consolas,'Courier New',monospace\"><span style=\"color: #76b900; text-decoration-color: #76b900; font-weight: bold\">RAG Answer: TrustRAG is a defense framework designed to enhance the robustness and trustworthiness of </span>\n",
       "<span style=\"color: #76b900; text-decoration-color: #76b900; font-weight: bold\">Retrieval-Augmented Generation (RAG) systems in the face of corpus poisoning attacks. It does this by employing a </span>\n",
       "<span style=\"color: #76b900; text-decoration-color: #76b900; font-weight: bold\">two-stage defense mechanism. </span>\n",
       "\n",
       "<span style=\"color: #76b900; text-decoration-color: #76b900; font-weight: bold\">In the first stage, TrustRAG uses K-means clustering to identify potential attack patterns in retrieved documents </span>\n",
       "<span style=\"color: #76b900; text-decoration-color: #76b900; font-weight: bold\">based on their semantic embeddings. This helps to isolate suspicious content that may be malicious. </span>\n",
       "\n",
       "<span style=\"color: #76b900; text-decoration-color: #76b900; font-weight: bold\">The second stage of TrustRAG involves implementing a mechanism to filter compromised and irrelevant content before </span>\n",
       "<span style=\"color: #76b900; text-decoration-color: #76b900; font-weight: bold\">it reaches the language model. This is done through a majority-vote mechanism across retrieved documents and </span>\n",
       "<span style=\"color: #76b900; text-decoration-color: #76b900; font-weight: bold\">carefully engineered prompts. </span>\n",
       "\n",
       "<span style=\"color: #76b900; text-decoration-color: #76b900; font-weight: bold\">This approach is designed to maintain robust and trustworthy responses even when multiple malicious documents have </span>\n",
       "<span style=\"color: #76b900; text-decoration-color: #76b900; font-weight: bold\">contaminated the retrieval corpus. It's important to note that previous approaches to mitigate noisy information </span>\n",
       "<span style=\"color: #76b900; text-decoration-color: #76b900; font-weight: bold\">through majority-vote mechanisms across retrieved documents have become ineffective when attackers inject multiple </span>\n",
       "<span style=\"color: #76b900; text-decoration-color: #76b900; font-weight: bold\">malicious documents that outnumber benign ones. </span>\n",
       "\n",
       "<span style=\"color: #76b900; text-decoration-color: #76b900; font-weight: bold\">TrustRAG is proposed in the paper </span><span style=\"color: #008000; text-decoration-color: #008000\">\"TrustRAG: Enhancing Robustness and Trustworthiness in RAG\"</span><span style=\"color: #76b900; text-decoration-color: #76b900; font-weight: bold\"> by Huichi Zhou, </span>\n",
       "<span style=\"color: #76b900; text-decoration-color: #76b900; font-weight: bold\">Kin-Hei Lee, Zhonghao Zhan, Yue Chen, and Zhenhao Li in </span><span style=\"color: #008080; text-decoration-color: #008080; font-weight: bold\">2024</span><span style=\"color: #76b900; text-decoration-color: #76b900; font-weight: bold\">.</span>\n",
       "\n",
       "</pre>\n"
      ],
      "text/plain": [
       "\u001b[1;38;2;118;185;0mRAG Answer: TrustRAG is a defense framework designed to enhance the robustness and trustworthiness of \u001b[0m\n",
       "\u001b[1;38;2;118;185;0mRetrieval-Augmented Generation \u001b[0m\u001b[1;38;2;118;185;0m(\u001b[0m\u001b[1;38;2;118;185;0mRAG\u001b[0m\u001b[1;38;2;118;185;0m)\u001b[0m\u001b[1;38;2;118;185;0m systems in the face of corpus poisoning attacks. It does this by employing a \u001b[0m\n",
       "\u001b[1;38;2;118;185;0mtwo-stage defense mechanism. \u001b[0m\n",
       "\n",
       "\u001b[1;38;2;118;185;0mIn the first stage, TrustRAG uses K-means clustering to identify potential attack patterns in retrieved documents \u001b[0m\n",
       "\u001b[1;38;2;118;185;0mbased on their semantic embeddings. This helps to isolate suspicious content that may be malicious. \u001b[0m\n",
       "\n",
       "\u001b[1;38;2;118;185;0mThe second stage of TrustRAG involves implementing a mechanism to filter compromised and irrelevant content before \u001b[0m\n",
       "\u001b[1;38;2;118;185;0mit reaches the language model. This is done through a majority-vote mechanism across retrieved documents and \u001b[0m\n",
       "\u001b[1;38;2;118;185;0mcarefully engineered prompts. \u001b[0m\n",
       "\n",
       "\u001b[1;38;2;118;185;0mThis approach is designed to maintain robust and trustworthy responses even when multiple malicious documents have \u001b[0m\n",
       "\u001b[1;38;2;118;185;0mcontaminated the retrieval corpus. It's important to note that previous approaches to mitigate noisy information \u001b[0m\n",
       "\u001b[1;38;2;118;185;0mthrough majority-vote mechanisms across retrieved documents have become ineffective when attackers inject multiple \u001b[0m\n",
       "\u001b[1;38;2;118;185;0mmalicious documents that outnumber benign ones. \u001b[0m\n",
       "\n",
       "\u001b[1;38;2;118;185;0mTrustRAG is proposed in the paper \u001b[0m\u001b[32m\"TrustRAG: Enhancing Robustness and Trustworthiness in RAG\"\u001b[0m\u001b[1;38;2;118;185;0m by Huichi Zhou, \u001b[0m\n",
       "\u001b[1;38;2;118;185;0mKin-Hei Lee, Zhonghao Zhan, Yue Chen, and Zhenhao Li in \u001b[0m\u001b[1;36m2024\u001b[0m\u001b[1;38;2;118;185;0m.\u001b[0m\n",
       "\n"
      ]
     },
     "metadata": {},
     "output_type": "display_data"
    }
   ],
   "source": [
    "## TODO: Generate some synthetic answers to the questions above.\n",
    "##   Try to use the same syntax as the cell above\n",
    "rag_answers = []\n",
    "for i, q in enumerate(synth_questions):\n",
    "    ## TODO: Compute the RAG Answer\n",
    "    rag_answer = rag_chain.invoke(q)\n",
    "    rag_answers += [rag_answer]\n",
    "    pprint2(f\"QA Pair {i+1}\", q, \"\", sep=\"\\n\")\n",
    "    pprint(f\"RAG Answer: {rag_answer}\", \"\", sep='\\n')"
   ]
  },
  {
   "cell_type": "markdown",
   "id": "Ho5cnN_Xt_yr",
   "metadata": {
    "id": "Ho5cnN_Xt_yr"
   },
   "source": [
    "<br>\n",
    "\n",
    "### **Step 5:** Implement A Human Preference Metric\n",
    "\n",
    "In this section, we can implement the fourth part of our evaluation routine:\n",
    "\n",
    "- Sample the RAG agent document pool to find two document chunks.\n",
    "- Use those two document chunks to generate a synthetic \"baseline\" question-answer pair.\n",
    "- Use the RAG agent to generate its own answer.\n",
    "- **Use a judge LLM to compare the two responses while grounding the synthetic generation as \"ground-truth correct.\"**\n",
    "\n",
    "The chain should be a simple but powerful process that tests for the following objective:\n",
    "\n",
    "> Does my RAG chain outperform a narrow chatbot with limited document access?"
   ]
  },
  {
   "cell_type": "code",
   "execution_count": 9,
   "id": "sf6f2oFLuPtu",
   "metadata": {
    "id": "sf6f2oFLuPtu"
   },
   "outputs": [
    {
     "data": {
      "text/html": [
       "<pre style=\"white-space:pre;overflow-x:auto;line-height:normal;font-family:Menlo,'DejaVu Sans Mono',consolas,'Courier New',monospace\"><span style=\"font-weight: bold\">Set </span><span style=\"color: #008080; text-decoration-color: #008080; font-weight: bold\">1</span>\n",
       "\n",
       "<span style=\"font-weight: bold\">Question: Question: How does TrustRAG, a robust framework, enhance the performance of Retrieval-Augmented </span>\n",
       "<span style=\"font-weight: bold\">Generation (RAG) systems and improve their resistance to attacks?</span>\n",
       "\n",
       "\n",
       "</pre>\n"
      ],
      "text/plain": [
       "\u001b[1mSet \u001b[0m\u001b[1;36m1\u001b[0m\n",
       "\n",
       "\u001b[1mQuestion: Question: How does TrustRAG, a robust framework, enhance the performance of Retrieval-Augmented \u001b[0m\n",
       "\u001b[1mGeneration \u001b[0m\u001b[1m(\u001b[0m\u001b[1mRAG\u001b[0m\u001b[1m)\u001b[0m\u001b[1m systems and improve their resistance to attacks?\u001b[0m\n",
       "\n",
       "\n"
      ]
     },
     "metadata": {},
     "output_type": "display_data"
    },
    {
     "data": {
      "text/html": [
       "<pre style=\"white-space:pre;overflow-x:auto;line-height:normal;font-family:Menlo,'DejaVu Sans Mono',consolas,'Courier New',monospace\"><span style=\"color: #76b900; text-decoration-color: #76b900; font-weight: bold\">Synth Answer: Answer: TrustRAG is a two-stage defense mechanism designed to strengthen the robustness and </span>\n",
       "<span style=\"color: #76b900; text-decoration-color: #76b900; font-weight: bold\">trustworthiness of RAG systems. It employs K-means clustering to identify potential attack patterns in retrieved </span>\n",
       "<span style=\"color: #76b900; text-decoration-color: #76b900; font-weight: bold\">documents based on their semantic embeddings, effectively isolating suspicious content. Additionally, it uses </span>\n",
       "<span style=\"color: #76b900; text-decoration-color: #76b900; font-weight: bold\">cosine similarity and ROUGE metrics to detect malicious documents and resolve discrepancies between the model's </span>\n",
       "<span style=\"color: #76b900; text-decoration-color: #76b900; font-weight: bold\">internal knowledge and external information through a self-assessment process. TrustRAG functions as a </span>\n",
       "<span style=\"color: #76b900; text-decoration-color: #76b900; font-weight: bold\">plug-and-play, training-free module that integrates with any language model, maintaining high contextual relevance </span>\n",
       "<span style=\"color: #76b900; text-decoration-color: #76b900; font-weight: bold\">while providing substantial improvements in retrieval accuracy, efficiency, and attack resistance compared to </span>\n",
       "<span style=\"color: #76b900; text-decoration-color: #76b900; font-weight: bold\">existing approaches. It has been shown to improve runtime performance, achieving a runtime approximately two times </span>\n",
       "<span style=\"color: #76b900; text-decoration-color: #76b900; font-weight: bold\">greater than Vanilla RAG, which is a reasonable trade-off for the significant improvements in robustness and </span>\n",
       "<span style=\"color: #76b900; text-decoration-color: #76b900; font-weight: bold\">reliability offered by TrustRAG.</span>\n",
       "\n",
       "\n",
       "</pre>\n"
      ],
      "text/plain": [
       "\u001b[1;38;2;118;185;0mSynth Answer: Answer: TrustRAG is a two-stage defense mechanism designed to strengthen the robustness and \u001b[0m\n",
       "\u001b[1;38;2;118;185;0mtrustworthiness of RAG systems. It employs K-means clustering to identify potential attack patterns in retrieved \u001b[0m\n",
       "\u001b[1;38;2;118;185;0mdocuments based on their semantic embeddings, effectively isolating suspicious content. Additionally, it uses \u001b[0m\n",
       "\u001b[1;38;2;118;185;0mcosine similarity and ROUGE metrics to detect malicious documents and resolve discrepancies between the model's \u001b[0m\n",
       "\u001b[1;38;2;118;185;0minternal knowledge and external information through a self-assessment process. TrustRAG functions as a \u001b[0m\n",
       "\u001b[1;38;2;118;185;0mplug-and-play, training-free module that integrates with any language model, maintaining high contextual relevance \u001b[0m\n",
       "\u001b[1;38;2;118;185;0mwhile providing substantial improvements in retrieval accuracy, efficiency, and attack resistance compared to \u001b[0m\n",
       "\u001b[1;38;2;118;185;0mexisting approaches. It has been shown to improve runtime performance, achieving a runtime approximately two times \u001b[0m\n",
       "\u001b[1;38;2;118;185;0mgreater than Vanilla RAG, which is a reasonable trade-off for the significant improvements in robustness and \u001b[0m\n",
       "\u001b[1;38;2;118;185;0mreliability offered by TrustRAG.\u001b[0m\n",
       "\n",
       "\n"
      ]
     },
     "metadata": {},
     "output_type": "display_data"
    },
    {
     "data": {
      "text/html": [
       "<pre style=\"white-space:pre;overflow-x:auto;line-height:normal;font-family:Menlo,'DejaVu Sans Mono',consolas,'Courier New',monospace\"><span style=\"color: #76b900; text-decoration-color: #76b900; font-weight: bold\">RAG Answer: TrustRAG is a robust framework designed to enhance the performance of Retrieval-Augmented Generation </span>\n",
       "<span style=\"color: #76b900; text-decoration-color: #76b900; font-weight: bold\">(RAG) systems and improve their resistance to attacks. According to the abstract of </span><span style=\"color: #008000; text-decoration-color: #008000\">\"TrustRAG: Enhancing Robustness</span>\n",
       "<span style=\"color: #008000; text-decoration-color: #008000\">and Trustworthiness in RAG,\"</span><span style=\"color: #76b900; text-decoration-color: #76b900; font-weight: bold\"> the framework aims to address the vulnerabilities of RAG systems to corpus poisoning </span>\n",
       "<span style=\"color: #76b900; text-decoration-color: #76b900; font-weight: bold\">attacks, which can significantly degrade the performance of large language models (LLMs) through the injection of </span>\n",
       "<span style=\"color: #76b900; text-decoration-color: #76b900; font-weight: bold\">malicious content.</span>\n",
       "\n",
       "<span style=\"color: #76b900; text-decoration-color: #76b900; font-weight: bold\">TrustRAG implements a two-stage defense mechanism to filter compromised and irrelevant content before it reaches </span>\n",
       "<span style=\"color: #76b900; text-decoration-color: #76b900; font-weight: bold\">the language model. The first stage employs K-means clustering to identify potential attack patterns in retrieved </span>\n",
       "<span style=\"color: #76b900; text-decoration-color: #76b900; font-weight: bold\">documents based on their semantic embeddings, effectively isolating suspicious content.</span>\n",
       "\n",
       "<span style=\"color: #76b900; text-decoration-color: #76b900; font-weight: bold\">The second stage involves the use of an objective function to evaluate the quality of the answer produced by the </span>\n",
       "<span style=\"color: #76b900; text-decoration-color: #76b900; font-weight: bold\">LLM based on the k retrieved texts for the target question. The objective function is large when the answer </span>\n",
       "<span style=\"color: #76b900; text-decoration-color: #76b900; font-weight: bold\">produced by the LLM is the target answer, indicating that the retrieved texts are relevant and trustworthy.</span>\n",
       "\n",
       "<span style=\"color: #76b900; text-decoration-color: #76b900; font-weight: bold\">According to the paper, TrustRAG conducts an extensive evaluation on multiple knowledge databases and LLMs, </span>\n",
       "<span style=\"color: #76b900; text-decoration-color: #76b900; font-weight: bold\">comparing it with advanced RAG systems. The results show that TrustRAG decreases the attack success rate while </span>\n",
       "<span style=\"color: #76b900; text-decoration-color: #76b900; font-weight: bold\">maintaining high response accuracy on different popular RAG benchmarks and attack settings.</span>\n",
       "\n",
       "<span style=\"color: #76b900; text-decoration-color: #76b900; font-weight: bold\">In summary, TrustRAG enhances the performance of RAG systems by implementing a two-stage defense mechanism that </span>\n",
       "<span style=\"color: #76b900; text-decoration-color: #76b900; font-weight: bold\">filters compromised and irrelevant content, improving the resistance of RAG systems to attacks and maintaining high</span>\n",
       "<span style=\"color: #76b900; text-decoration-color: #76b900; font-weight: bold\">response accuracy.</span>\n",
       "\n",
       "<span style=\"color: #76b900; text-decoration-color: #76b900; font-weight: bold\">Sources:</span>\n",
       "\n",
       "<span style=\"color: #76b900; text-decoration-color: #76b900; font-weight: bold\">* TrustRAG: Enhancing Robustness and Trustworthiness in RAG, Huichi Zhou, Kin-Hei Lee, Zhonghao Zhan, Yue Chen, </span>\n",
       "<span style=\"color: #76b900; text-decoration-color: #76b900; font-weight: bold\">Zhenhao Li.</span>\n",
       "<span style=\"color: #76b900; text-decoration-color: #76b900; font-weight: bold\">* Retrieval augmented generation. Zhou et al., </span><span style=\"color: #008080; text-decoration-color: #008080; font-weight: bold\">2024</span><span style=\"color: #76b900; text-decoration-color: #76b900; font-weight: bold\">.</span>\n",
       "<span style=\"color: #76b900; text-decoration-color: #76b900; font-weight: bold\">* Large language models. Lewis et al., </span><span style=\"color: #008080; text-decoration-color: #008080; font-weight: bold\">2020</span><span style=\"color: #76b900; text-decoration-color: #76b900; font-weight: bold\">; Guu et al., </span><span style=\"color: #008080; text-decoration-color: #008080; font-weight: bold\">2020</span><span style=\"color: #76b900; text-decoration-color: #76b900; font-weight: bold\">; Izacard et al., </span><span style=\"color: #008080; text-decoration-color: #008080; font-weight: bold\">2023</span><span style=\"color: #76b900; text-decoration-color: #76b900; font-weight: bold\">.</span>\n",
       "<span style=\"color: #76b900; text-decoration-color: #76b900; font-weight: bold\">* RAG methods. Zheng et al., </span><span style=\"color: #008080; text-decoration-color: #008080; font-weight: bold\">2023</span><span style=\"color: #76b900; text-decoration-color: #76b900; font-weight: bold\">; Dai et al., </span><span style=\"color: #008080; text-decoration-color: #008080; font-weight: bold\">2022</span><span style=\"color: #76b900; text-decoration-color: #76b900; font-weight: bold\">; Glass et al., </span><span style=\"color: #008080; text-decoration-color: #008080; font-weight: bold\">2022</span><span style=\"color: #76b900; text-decoration-color: #76b900; font-weight: bold\">; Chen et al.</span>\n",
       "\n",
       "\n",
       "</pre>\n"
      ],
      "text/plain": [
       "\u001b[1;38;2;118;185;0mRAG Answer: TrustRAG is a robust framework designed to enhance the performance of Retrieval-Augmented Generation \u001b[0m\n",
       "\u001b[1;38;2;118;185;0m(\u001b[0m\u001b[1;38;2;118;185;0mRAG\u001b[0m\u001b[1;38;2;118;185;0m)\u001b[0m\u001b[1;38;2;118;185;0m systems and improve their resistance to attacks. According to the abstract of \u001b[0m\u001b[32m\"TrustRAG: Enhancing Robustness\u001b[0m\n",
       "\u001b[32mand Trustworthiness in RAG,\"\u001b[0m\u001b[1;38;2;118;185;0m the framework aims to address the vulnerabilities of RAG systems to corpus poisoning \u001b[0m\n",
       "\u001b[1;38;2;118;185;0mattacks, which can significantly degrade the performance of large language models \u001b[0m\u001b[1;38;2;118;185;0m(\u001b[0m\u001b[1;38;2;118;185;0mLLMs\u001b[0m\u001b[1;38;2;118;185;0m)\u001b[0m\u001b[1;38;2;118;185;0m through the injection of \u001b[0m\n",
       "\u001b[1;38;2;118;185;0mmalicious content.\u001b[0m\n",
       "\n",
       "\u001b[1;38;2;118;185;0mTrustRAG implements a two-stage defense mechanism to filter compromised and irrelevant content before it reaches \u001b[0m\n",
       "\u001b[1;38;2;118;185;0mthe language model. The first stage employs K-means clustering to identify potential attack patterns in retrieved \u001b[0m\n",
       "\u001b[1;38;2;118;185;0mdocuments based on their semantic embeddings, effectively isolating suspicious content.\u001b[0m\n",
       "\n",
       "\u001b[1;38;2;118;185;0mThe second stage involves the use of an objective function to evaluate the quality of the answer produced by the \u001b[0m\n",
       "\u001b[1;38;2;118;185;0mLLM based on the k retrieved texts for the target question. The objective function is large when the answer \u001b[0m\n",
       "\u001b[1;38;2;118;185;0mproduced by the LLM is the target answer, indicating that the retrieved texts are relevant and trustworthy.\u001b[0m\n",
       "\n",
       "\u001b[1;38;2;118;185;0mAccording to the paper, TrustRAG conducts an extensive evaluation on multiple knowledge databases and LLMs, \u001b[0m\n",
       "\u001b[1;38;2;118;185;0mcomparing it with advanced RAG systems. The results show that TrustRAG decreases the attack success rate while \u001b[0m\n",
       "\u001b[1;38;2;118;185;0mmaintaining high response accuracy on different popular RAG benchmarks and attack settings.\u001b[0m\n",
       "\n",
       "\u001b[1;38;2;118;185;0mIn summary, TrustRAG enhances the performance of RAG systems by implementing a two-stage defense mechanism that \u001b[0m\n",
       "\u001b[1;38;2;118;185;0mfilters compromised and irrelevant content, improving the resistance of RAG systems to attacks and maintaining high\u001b[0m\n",
       "\u001b[1;38;2;118;185;0mresponse accuracy.\u001b[0m\n",
       "\n",
       "\u001b[1;38;2;118;185;0mSources:\u001b[0m\n",
       "\n",
       "\u001b[1;38;2;118;185;0m* TrustRAG: Enhancing Robustness and Trustworthiness in RAG, Huichi Zhou, Kin-Hei Lee, Zhonghao Zhan, Yue Chen, \u001b[0m\n",
       "\u001b[1;38;2;118;185;0mZhenhao Li.\u001b[0m\n",
       "\u001b[1;38;2;118;185;0m* Retrieval augmented generation. Zhou et al., \u001b[0m\u001b[1;36m2024\u001b[0m\u001b[1;38;2;118;185;0m.\u001b[0m\n",
       "\u001b[1;38;2;118;185;0m* Large language models. Lewis et al., \u001b[0m\u001b[1;36m2020\u001b[0m\u001b[1;38;2;118;185;0m; Guu et al., \u001b[0m\u001b[1;36m2020\u001b[0m\u001b[1;38;2;118;185;0m; Izacard et al., \u001b[0m\u001b[1;36m2023\u001b[0m\u001b[1;38;2;118;185;0m.\u001b[0m\n",
       "\u001b[1;38;2;118;185;0m* RAG methods. Zheng et al., \u001b[0m\u001b[1;36m2023\u001b[0m\u001b[1;38;2;118;185;0m; Dai et al., \u001b[0m\u001b[1;36m2022\u001b[0m\u001b[1;38;2;118;185;0m; Glass et al., \u001b[0m\u001b[1;36m2022\u001b[0m\u001b[1;38;2;118;185;0m; Chen et al.\u001b[0m\n",
       "\n",
       "\n"
      ]
     },
     "metadata": {},
     "output_type": "display_data"
    },
    {
     "data": {
      "text/html": [
       "<pre style=\"white-space:pre;overflow-x:auto;line-height:normal;font-family:Menlo,'DejaVu Sans Mono',consolas,'Courier New',monospace\"><span style=\"font-weight: bold\">Synth Evaluation: [</span><span style=\"color: #008080; text-decoration-color: #008080; font-weight: bold\">2</span><span style=\"font-weight: bold\">] Both answers provide a detailed explanation of TrustRAG and its function as a robust </span>\n",
       "<span style=\"font-weight: bold\">framework for enhancing the performance of RAG systems and improving their resistance to attacks. Answer </span><span style=\"color: #008080; text-decoration-color: #008080; font-weight: bold\">2</span><span style=\"font-weight: bold\"> provides</span>\n",
       "<span style=\"font-weight: bold\">additional information about TrustRAG's two-stage defense mechanism and its evaluation against advanced RAG </span>\n",
       "<span style=\"font-weight: bold\">systems, making it slightly better than Answer </span><span style=\"color: #008080; text-decoration-color: #008080; font-weight: bold\">1</span><span style=\"font-weight: bold\">. However, Answer </span><span style=\"color: #008080; text-decoration-color: #008080; font-weight: bold\">2</span><span style=\"font-weight: bold\"> does not introduce any inconsistencies with the</span>\n",
       "<span style=\"font-weight: bold\">ground truth answer, so it does not warrant a score of </span><span style=\"color: #008080; text-decoration-color: #008080; font-weight: bold\">1</span><span style=\"font-weight: bold\">.</span>\n",
       "\n",
       "\n",
       "</pre>\n"
      ],
      "text/plain": [
       "\u001b[1mSynth Evaluation: \u001b[0m\u001b[1m[\u001b[0m\u001b[1;36m2\u001b[0m\u001b[1m]\u001b[0m\u001b[1m Both answers provide a detailed explanation of TrustRAG and its function as a robust \u001b[0m\n",
       "\u001b[1mframework for enhancing the performance of RAG systems and improving their resistance to attacks. Answer \u001b[0m\u001b[1;36m2\u001b[0m\u001b[1m provides\u001b[0m\n",
       "\u001b[1madditional information about TrustRAG's two-stage defense mechanism and its evaluation against advanced RAG \u001b[0m\n",
       "\u001b[1msystems, making it slightly better than Answer \u001b[0m\u001b[1;36m1\u001b[0m\u001b[1m. However, Answer \u001b[0m\u001b[1;36m2\u001b[0m\u001b[1m does not introduce any inconsistencies with the\u001b[0m\n",
       "\u001b[1mground truth answer, so it does not warrant a score of \u001b[0m\u001b[1;36m1\u001b[0m\u001b[1m.\u001b[0m\n",
       "\n",
       "\n"
      ]
     },
     "metadata": {},
     "output_type": "display_data"
    },
    {
     "data": {
      "text/html": [
       "<pre style=\"white-space:pre;overflow-x:auto;line-height:normal;font-family:Menlo,'DejaVu Sans Mono',consolas,'Courier New',monospace\"><span style=\"font-weight: bold\">Set </span><span style=\"color: #008080; text-decoration-color: #008080; font-weight: bold\">2</span>\n",
       "\n",
       "<span style=\"font-weight: bold\">Question: Question: How can gender stereotypes in movie recommender systems lead to privacy issues and what kind of</span>\n",
       "<span style=\"font-weight: bold\">broader implications can this have on digital computational science?</span>\n",
       "\n",
       "\n",
       "</pre>\n"
      ],
      "text/plain": [
       "\u001b[1mSet \u001b[0m\u001b[1;36m2\u001b[0m\n",
       "\n",
       "\u001b[1mQuestion: Question: How can gender stereotypes in movie recommender systems lead to privacy issues and what kind of\u001b[0m\n",
       "\u001b[1mbroader implications can this have on digital computational science?\u001b[0m\n",
       "\n",
       "\n"
      ]
     },
     "metadata": {},
     "output_type": "display_data"
    },
    {
     "data": {
      "text/html": [
       "<pre style=\"white-space:pre;overflow-x:auto;line-height:normal;font-family:Menlo,'DejaVu Sans Mono',consolas,'Courier New',monospace\"><span style=\"color: #76b900; text-decoration-color: #76b900; font-weight: bold\">Synth Answer: Answer: The document discusses a study that shows how gender stereotypes in movie recommender systems</span>\n",
       "<span style=\"color: #76b900; text-decoration-color: #76b900; font-weight: bold\">can lead to privacy issues by enabling attackers to determine users' gender, a private attribute, by exploiting </span>\n",
       "<span style=\"color: #76b900; text-decoration-color: #76b900; font-weight: bold\">these stereotypes and analyzing users' feedback data. The study also found that inference algorithms performed more</span>\n",
       "<span style=\"color: #76b900; text-decoration-color: #76b900; font-weight: bold\">effectively than relying solely on feedback data for gender inference. Additionally, the study quantified the </span>\n",
       "<span style=\"color: #76b900; text-decoration-color: #76b900; font-weight: bold\">extent of gender stereotypes to evaluate their broader impact on digital computational science. The document also </span>\n",
       "<span style=\"color: #76b900; text-decoration-color: #76b900; font-weight: bold\">mentions that demographic biases such as gender bias can be introduced into the system for business purposes, and </span>\n",
       "<span style=\"color: #76b900; text-decoration-color: #76b900; font-weight: bold\">this can result in issues such as filter bubbles or feedback loop effects, which can confine users to repetitive, </span>\n",
       "<span style=\"color: #76b900; text-decoration-color: #76b900; font-weight: bold\">similar recommendations and limit their exposure to diverse content, possibly reinforcing stereotypical behavior. </span>\n",
       "<span style=\"color: #76b900; text-decoration-color: #76b900; font-weight: bold\">The study concludes that movie recommender systems often contain gender stereotypes in their data, which raises </span>\n",
       "<span style=\"color: #76b900; text-decoration-color: #76b900; font-weight: bold\">significant privacy concerns.</span>\n",
       "\n",
       "\n",
       "</pre>\n"
      ],
      "text/plain": [
       "\u001b[1;38;2;118;185;0mSynth Answer: Answer: The document discusses a study that shows how gender stereotypes in movie recommender systems\u001b[0m\n",
       "\u001b[1;38;2;118;185;0mcan lead to privacy issues by enabling attackers to determine users' gender, a private attribute, by exploiting \u001b[0m\n",
       "\u001b[1;38;2;118;185;0mthese stereotypes and analyzing users' feedback data. The study also found that inference algorithms performed more\u001b[0m\n",
       "\u001b[1;38;2;118;185;0meffectively than relying solely on feedback data for gender inference. Additionally, the study quantified the \u001b[0m\n",
       "\u001b[1;38;2;118;185;0mextent of gender stereotypes to evaluate their broader impact on digital computational science. The document also \u001b[0m\n",
       "\u001b[1;38;2;118;185;0mmentions that demographic biases such as gender bias can be introduced into the system for business purposes, and \u001b[0m\n",
       "\u001b[1;38;2;118;185;0mthis can result in issues such as filter bubbles or feedback loop effects, which can confine users to repetitive, \u001b[0m\n",
       "\u001b[1;38;2;118;185;0msimilar recommendations and limit their exposure to diverse content, possibly reinforcing stereotypical behavior. \u001b[0m\n",
       "\u001b[1;38;2;118;185;0mThe study concludes that movie recommender systems often contain gender stereotypes in their data, which raises \u001b[0m\n",
       "\u001b[1;38;2;118;185;0msignificant privacy concerns.\u001b[0m\n",
       "\n",
       "\n"
      ]
     },
     "metadata": {},
     "output_type": "display_data"
    },
    {
     "data": {
      "text/html": [
       "<pre style=\"white-space:pre;overflow-x:auto;line-height:normal;font-family:Menlo,'DejaVu Sans Mono',consolas,'Courier New',monospace\"><span style=\"color: #76b900; text-decoration-color: #76b900; font-weight: bold\">RAG Answer: Gender stereotypes in movie recommender systems can lead to privacy issues in a couple of ways. First, </span>\n",
       "<span style=\"color: #76b900; text-decoration-color: #76b900; font-weight: bold\">based on users' demographic data, demographic biases such as gender bias may be introduced into the system for </span>\n",
       "<span style=\"color: #76b900; text-decoration-color: #76b900; font-weight: bold\">business purposes [</span><span style=\"color: #008080; text-decoration-color: #008080; font-weight: bold\">42</span><span style=\"color: #76b900; text-decoration-color: #76b900; font-weight: bold\">, </span><span style=\"color: #008080; text-decoration-color: #008080; font-weight: bold\">43</span><span style=\"color: #76b900; text-decoration-color: #76b900; font-weight: bold\">, </span><span style=\"color: #008080; text-decoration-color: #008080; font-weight: bold\">44</span><span style=\"color: #76b900; text-decoration-color: #76b900; font-weight: bold\">]. For example, action movies are often promoted more to male audiences, while </span>\n",
       "<span style=\"color: #76b900; text-decoration-color: #76b900; font-weight: bold\">romantic animated movies are marketed with themes that attract female audiences. These practices can create </span>\n",
       "<span style=\"color: #76b900; text-decoration-color: #76b900; font-weight: bold\">gender-specific viewing patterns, reducing the variety of genres each gender gets to see and possibly restricting </span>\n",
       "<span style=\"color: #76b900; text-decoration-color: #76b900; font-weight: bold\">individual preferences. </span>\n",
       "\n",
       "<span style=\"color: #76b900; text-decoration-color: #76b900; font-weight: bold\">Moreover, the potential for gender bias in the system can also result in issues such as filter bubbles or feedback </span>\n",
       "<span style=\"color: #76b900; text-decoration-color: #76b900; font-weight: bold\">loop effects. These phenomena confine users to repetitive, similar recommendations, thereby limiting their exposure</span>\n",
       "<span style=\"color: #76b900; text-decoration-color: #76b900; font-weight: bold\">to diverse content and reinforcing stereotypical behavior [</span><span style=\"color: #008080; text-decoration-color: #008080; font-weight: bold\">45</span><span style=\"color: #76b900; text-decoration-color: #76b900; font-weight: bold\">]. </span>\n",
       "\n",
       "<span style=\"color: #76b900; text-decoration-color: #76b900; font-weight: bold\">In a specific attack scenario, an attacker can determine users' gender, a private attribute, by exploiting gender </span>\n",
       "<span style=\"color: #76b900; text-decoration-color: #76b900; font-weight: bold\">stereotypes about movie preferences and analyzing users' feedback data, which is either publicly available or </span>\n",
       "<span style=\"color: #76b900; text-decoration-color: #76b900; font-weight: bold\">observed within the system [</span><span style=\"color: #008080; text-decoration-color: #008080; font-weight: bold\">42</span><span style=\"color: #76b900; text-decoration-color: #76b900; font-weight: bold\">, </span><span style=\"color: #008080; text-decoration-color: #008080; font-weight: bold\">44</span><span style=\"color: #76b900; text-decoration-color: #76b900; font-weight: bold\">]. This is done in two phases. In the first phase, a user study involving </span><span style=\"color: #008080; text-decoration-color: #008080; font-weight: bold\">630</span><span style=\"color: #76b900; text-decoration-color: #76b900; font-weight: bold\"> </span>\n",
       "<span style=\"color: #76b900; text-decoration-color: #76b900; font-weight: bold\">participants identified gender stereotypes associated with movie genres, which often influence viewing choices. In </span>\n",
       "<span style=\"color: #76b900; text-decoration-color: #76b900; font-weight: bold\">the second phase, four inference algorithms were applied to detect gender stereotypes by combining the findings </span>\n",
       "<span style=\"color: #76b900; text-decoration-color: #76b900; font-weight: bold\">from the first phase with users' feedback data [</span><span style=\"color: #008080; text-decoration-color: #008080; font-weight: bold\">42</span><span style=\"color: #76b900; text-decoration-color: #76b900; font-weight: bold\">, </span><span style=\"color: #008080; text-decoration-color: #008080; font-weight: bold\">44</span><span style=\"color: #76b900; text-decoration-color: #76b900; font-weight: bold\">]. Results showed that these algorithms performed more </span>\n",
       "<span style=\"color: #76b900; text-decoration-color: #76b900; font-weight: bold\">effectively than relying solely on feedback data for gender inference. </span>\n",
       "\n",
       "<span style=\"color: #76b900; text-decoration-color: #76b900; font-weight: bold\">The broader implications of this on digital computational science are significant. The quantification of gender </span>\n",
       "<span style=\"color: #76b900; text-decoration-color: #76b900; font-weight: bold\">stereotypes' extent can evaluate their broader impact on digital computational science [</span><span style=\"color: #008080; text-decoration-color: #008080; font-weight: bold\">42</span><span style=\"color: #76b900; text-decoration-color: #76b900; font-weight: bold\">, </span><span style=\"color: #008080; text-decoration-color: #008080; font-weight: bold\">44</span><span style=\"color: #76b900; text-decoration-color: #76b900; font-weight: bold\">]. The presence of </span>\n",
       "<span style=\"color: #76b900; text-decoration-color: #76b900; font-weight: bold\">gender stereotypes in movie recommender systems can perpetuate prevailing social norms, leading to a lack of </span>\n",
       "<span style=\"color: #76b900; text-decoration-color: #76b900; font-weight: bold\">diversity in content exposure and potentially reinforcing harmful stereotypes. Therefore, addressing these issues </span>\n",
       "<span style=\"color: #76b900; text-decoration-color: #76b900; font-weight: bold\">is crucial for maintaining user privacy and promoting diversity and inclusivity in digital computational science.</span>\n",
       "\n",
       "<span style=\"color: #76b900; text-decoration-color: #76b900; font-weight: bold\">(Cited Sources: [</span><span style=\"color: #008080; text-decoration-color: #008080; font-weight: bold\">42</span><span style=\"color: #76b900; text-decoration-color: #76b900; font-weight: bold\">, </span><span style=\"color: #008080; text-decoration-color: #008080; font-weight: bold\">43</span><span style=\"color: #76b900; text-decoration-color: #76b900; font-weight: bold\">, </span><span style=\"color: #008080; text-decoration-color: #008080; font-weight: bold\">44</span><span style=\"color: #76b900; text-decoration-color: #76b900; font-weight: bold\">, </span><span style=\"color: #008080; text-decoration-color: #008080; font-weight: bold\">45</span><span style=\"color: #76b900; text-decoration-color: #76b900; font-weight: bold\">] from A Closer Look on Gender Stereotypes in Movie Recommender Systems and Their </span>\n",
       "<span style=\"color: #76b900; text-decoration-color: #76b900; font-weight: bold\">Implications with Privacy)</span>\n",
       "\n",
       "\n",
       "</pre>\n"
      ],
      "text/plain": [
       "\u001b[1;38;2;118;185;0mRAG Answer: Gender stereotypes in movie recommender systems can lead to privacy issues in a couple of ways. First, \u001b[0m\n",
       "\u001b[1;38;2;118;185;0mbased on users' demographic data, demographic biases such as gender bias may be introduced into the system for \u001b[0m\n",
       "\u001b[1;38;2;118;185;0mbusiness purposes \u001b[0m\u001b[1;38;2;118;185;0m[\u001b[0m\u001b[1;36m42\u001b[0m\u001b[1;38;2;118;185;0m, \u001b[0m\u001b[1;36m43\u001b[0m\u001b[1;38;2;118;185;0m, \u001b[0m\u001b[1;36m44\u001b[0m\u001b[1;38;2;118;185;0m]\u001b[0m\u001b[1;38;2;118;185;0m. For example, action movies are often promoted more to male audiences, while \u001b[0m\n",
       "\u001b[1;38;2;118;185;0mromantic animated movies are marketed with themes that attract female audiences. These practices can create \u001b[0m\n",
       "\u001b[1;38;2;118;185;0mgender-specific viewing patterns, reducing the variety of genres each gender gets to see and possibly restricting \u001b[0m\n",
       "\u001b[1;38;2;118;185;0mindividual preferences. \u001b[0m\n",
       "\n",
       "\u001b[1;38;2;118;185;0mMoreover, the potential for gender bias in the system can also result in issues such as filter bubbles or feedback \u001b[0m\n",
       "\u001b[1;38;2;118;185;0mloop effects. These phenomena confine users to repetitive, similar recommendations, thereby limiting their exposure\u001b[0m\n",
       "\u001b[1;38;2;118;185;0mto diverse content and reinforcing stereotypical behavior \u001b[0m\u001b[1;38;2;118;185;0m[\u001b[0m\u001b[1;36m45\u001b[0m\u001b[1;38;2;118;185;0m]\u001b[0m\u001b[1;38;2;118;185;0m. \u001b[0m\n",
       "\n",
       "\u001b[1;38;2;118;185;0mIn a specific attack scenario, an attacker can determine users' gender, a private attribute, by exploiting gender \u001b[0m\n",
       "\u001b[1;38;2;118;185;0mstereotypes about movie preferences and analyzing users' feedback data, which is either publicly available or \u001b[0m\n",
       "\u001b[1;38;2;118;185;0mobserved within the system \u001b[0m\u001b[1;38;2;118;185;0m[\u001b[0m\u001b[1;36m42\u001b[0m\u001b[1;38;2;118;185;0m, \u001b[0m\u001b[1;36m44\u001b[0m\u001b[1;38;2;118;185;0m]\u001b[0m\u001b[1;38;2;118;185;0m. This is done in two phases. In the first phase, a user study involving \u001b[0m\u001b[1;36m630\u001b[0m\u001b[1;38;2;118;185;0m \u001b[0m\n",
       "\u001b[1;38;2;118;185;0mparticipants identified gender stereotypes associated with movie genres, which often influence viewing choices. In \u001b[0m\n",
       "\u001b[1;38;2;118;185;0mthe second phase, four inference algorithms were applied to detect gender stereotypes by combining the findings \u001b[0m\n",
       "\u001b[1;38;2;118;185;0mfrom the first phase with users' feedback data \u001b[0m\u001b[1;38;2;118;185;0m[\u001b[0m\u001b[1;36m42\u001b[0m\u001b[1;38;2;118;185;0m, \u001b[0m\u001b[1;36m44\u001b[0m\u001b[1;38;2;118;185;0m]\u001b[0m\u001b[1;38;2;118;185;0m. Results showed that these algorithms performed more \u001b[0m\n",
       "\u001b[1;38;2;118;185;0meffectively than relying solely on feedback data for gender inference. \u001b[0m\n",
       "\n",
       "\u001b[1;38;2;118;185;0mThe broader implications of this on digital computational science are significant. The quantification of gender \u001b[0m\n",
       "\u001b[1;38;2;118;185;0mstereotypes' extent can evaluate their broader impact on digital computational science \u001b[0m\u001b[1;38;2;118;185;0m[\u001b[0m\u001b[1;36m42\u001b[0m\u001b[1;38;2;118;185;0m, \u001b[0m\u001b[1;36m44\u001b[0m\u001b[1;38;2;118;185;0m]\u001b[0m\u001b[1;38;2;118;185;0m. The presence of \u001b[0m\n",
       "\u001b[1;38;2;118;185;0mgender stereotypes in movie recommender systems can perpetuate prevailing social norms, leading to a lack of \u001b[0m\n",
       "\u001b[1;38;2;118;185;0mdiversity in content exposure and potentially reinforcing harmful stereotypes. Therefore, addressing these issues \u001b[0m\n",
       "\u001b[1;38;2;118;185;0mis crucial for maintaining user privacy and promoting diversity and inclusivity in digital computational science.\u001b[0m\n",
       "\n",
       "\u001b[1;38;2;118;185;0m(\u001b[0m\u001b[1;38;2;118;185;0mCited Sources: \u001b[0m\u001b[1;38;2;118;185;0m[\u001b[0m\u001b[1;36m42\u001b[0m\u001b[1;38;2;118;185;0m, \u001b[0m\u001b[1;36m43\u001b[0m\u001b[1;38;2;118;185;0m, \u001b[0m\u001b[1;36m44\u001b[0m\u001b[1;38;2;118;185;0m, \u001b[0m\u001b[1;36m45\u001b[0m\u001b[1;38;2;118;185;0m]\u001b[0m\u001b[1;38;2;118;185;0m from A Closer Look on Gender Stereotypes in Movie Recommender Systems and Their \u001b[0m\n",
       "\u001b[1;38;2;118;185;0mImplications with Privacy\u001b[0m\u001b[1;38;2;118;185;0m)\u001b[0m\n",
       "\n",
       "\n"
      ]
     },
     "metadata": {},
     "output_type": "display_data"
    },
    {
     "data": {
      "text/html": [
       "<pre style=\"white-space:pre;overflow-x:auto;line-height:normal;font-family:Menlo,'DejaVu Sans Mono',consolas,'Courier New',monospace\"><span style=\"font-weight: bold\">Synth Evaluation: [</span><span style=\"color: #008080; text-decoration-color: #008080; font-weight: bold\">2</span><span style=\"font-weight: bold\">] Both answers provide a comprehensive explanation of how gender stereotypes in movie </span>\n",
       "<span style=\"font-weight: bold\">recommender systems can lead to privacy issues and have broader implications for digital computational science. The</span>\n",
       "<span style=\"font-weight: bold\">second answer even provides more specific details about the attack scenario and cites sources. It does not </span>\n",
       "<span style=\"font-weight: bold\">introduce any inconsistencies and is better structured, making it a more preferable answer.</span>\n",
       "\n",
       "\n",
       "</pre>\n"
      ],
      "text/plain": [
       "\u001b[1mSynth Evaluation: \u001b[0m\u001b[1m[\u001b[0m\u001b[1;36m2\u001b[0m\u001b[1m]\u001b[0m\u001b[1m Both answers provide a comprehensive explanation of how gender stereotypes in movie \u001b[0m\n",
       "\u001b[1mrecommender systems can lead to privacy issues and have broader implications for digital computational science. The\u001b[0m\n",
       "\u001b[1msecond answer even provides more specific details about the attack scenario and cites sources. It does not \u001b[0m\n",
       "\u001b[1mintroduce any inconsistencies and is better structured, making it a more preferable answer.\u001b[0m\n",
       "\n",
       "\n"
      ]
     },
     "metadata": {},
     "output_type": "display_data"
    },
    {
     "data": {
      "text/html": [
       "<pre style=\"white-space:pre;overflow-x:auto;line-height:normal;font-family:Menlo,'DejaVu Sans Mono',consolas,'Courier New',monospace\"><span style=\"font-weight: bold\">Set </span><span style=\"color: #008080; text-decoration-color: #008080; font-weight: bold\">3</span>\n",
       "\n",
       "<span style=\"font-weight: bold\">Question: Question: How does TrustRAG, a defense framework for Retrieval-Augmented Generation (RAG) systems, </span>\n",
       "<span style=\"font-weight: bold\">enhance robustness and trustworthiness in the face of corpus poisoning attacks?</span>\n",
       "\n",
       "\n",
       "</pre>\n"
      ],
      "text/plain": [
       "\u001b[1mSet \u001b[0m\u001b[1;36m3\u001b[0m\n",
       "\n",
       "\u001b[1mQuestion: Question: How does TrustRAG, a defense framework for Retrieval-Augmented Generation \u001b[0m\u001b[1m(\u001b[0m\u001b[1mRAG\u001b[0m\u001b[1m)\u001b[0m\u001b[1m systems, \u001b[0m\n",
       "\u001b[1menhance robustness and trustworthiness in the face of corpus poisoning attacks?\u001b[0m\n",
       "\n",
       "\n"
      ]
     },
     "metadata": {},
     "output_type": "display_data"
    },
    {
     "data": {
      "text/html": [
       "<pre style=\"white-space:pre;overflow-x:auto;line-height:normal;font-family:Menlo,'DejaVu Sans Mono',consolas,'Courier New',monospace\"><span style=\"color: #76b900; text-decoration-color: #76b900; font-weight: bold\">Synth Answer: Answer: TrustRAG is a two-stage defense mechanism aimed at countering attacks involving multiple </span>\n",
       "<span style=\"color: #76b900; text-decoration-color: #76b900; font-weight: bold\">maliciously injected documents in RAG systems. It employs K-means filtering to reduce the presence of malicious </span>\n",
       "<span style=\"color: #76b900; text-decoration-color: #76b900; font-weight: bold\">documents and uses both internal and external knowledge sources to resolve conflicts and mitigate the impact of </span>\n",
       "<span style=\"color: #76b900; text-decoration-color: #76b900; font-weight: bold\">these attacks. By comprehensively evaluating TrustRAG across benchmarks, it has been demonstrated that it </span>\n",
       "<span style=\"color: #76b900; text-decoration-color: #76b900; font-weight: bold\">outperforms existing defenses, maintaining high accuracy even under aggressive poisoning scenarios where </span>\n",
       "<span style=\"color: #76b900; text-decoration-color: #76b900; font-weight: bold\">traditional approaches fail. TrustRAG's plug-and-play architecture allows for immediate deployment with any Large </span>\n",
       "<span style=\"color: #76b900; text-decoration-color: #76b900; font-weight: bold\">Language Models (LLMs).</span>\n",
       "\n",
       "\n",
       "</pre>\n"
      ],
      "text/plain": [
       "\u001b[1;38;2;118;185;0mSynth Answer: Answer: TrustRAG is a two-stage defense mechanism aimed at countering attacks involving multiple \u001b[0m\n",
       "\u001b[1;38;2;118;185;0mmaliciously injected documents in RAG systems. It employs K-means filtering to reduce the presence of malicious \u001b[0m\n",
       "\u001b[1;38;2;118;185;0mdocuments and uses both internal and external knowledge sources to resolve conflicts and mitigate the impact of \u001b[0m\n",
       "\u001b[1;38;2;118;185;0mthese attacks. By comprehensively evaluating TrustRAG across benchmarks, it has been demonstrated that it \u001b[0m\n",
       "\u001b[1;38;2;118;185;0moutperforms existing defenses, maintaining high accuracy even under aggressive poisoning scenarios where \u001b[0m\n",
       "\u001b[1;38;2;118;185;0mtraditional approaches fail. TrustRAG's plug-and-play architecture allows for immediate deployment with any Large \u001b[0m\n",
       "\u001b[1;38;2;118;185;0mLanguage Models \u001b[0m\u001b[1;38;2;118;185;0m(\u001b[0m\u001b[1;38;2;118;185;0mLLMs\u001b[0m\u001b[1;38;2;118;185;0m)\u001b[0m\u001b[1;38;2;118;185;0m.\u001b[0m\n",
       "\n",
       "\n"
      ]
     },
     "metadata": {},
     "output_type": "display_data"
    },
    {
     "data": {
      "text/html": [
       "<pre style=\"white-space:pre;overflow-x:auto;line-height:normal;font-family:Menlo,'DejaVu Sans Mono',consolas,'Courier New',monospace\"><span style=\"color: #76b900; text-decoration-color: #76b900; font-weight: bold\">RAG Answer: TrustRAG is a defense framework designed to enhance the robustness and trustworthiness of </span>\n",
       "<span style=\"color: #76b900; text-decoration-color: #76b900; font-weight: bold\">Retrieval-Augmented Generation (RAG) systems in the face of corpus poisoning attacks. It does this by employing a </span>\n",
       "<span style=\"color: #76b900; text-decoration-color: #76b900; font-weight: bold\">two-stage defense mechanism. </span>\n",
       "\n",
       "<span style=\"color: #76b900; text-decoration-color: #76b900; font-weight: bold\">In the first stage, TrustRAG uses K-means clustering to identify potential attack patterns in retrieved documents </span>\n",
       "<span style=\"color: #76b900; text-decoration-color: #76b900; font-weight: bold\">based on their semantic embeddings. This helps to isolate suspicious content that may be malicious. </span>\n",
       "\n",
       "<span style=\"color: #76b900; text-decoration-color: #76b900; font-weight: bold\">The second stage of TrustRAG involves implementing a mechanism to filter compromised and irrelevant content before </span>\n",
       "<span style=\"color: #76b900; text-decoration-color: #76b900; font-weight: bold\">it reaches the language model. This is done through a majority-vote mechanism across retrieved documents and </span>\n",
       "<span style=\"color: #76b900; text-decoration-color: #76b900; font-weight: bold\">carefully engineered prompts. </span>\n",
       "\n",
       "<span style=\"color: #76b900; text-decoration-color: #76b900; font-weight: bold\">This approach is designed to maintain robust and trustworthy responses even when multiple malicious documents have </span>\n",
       "<span style=\"color: #76b900; text-decoration-color: #76b900; font-weight: bold\">contaminated the retrieval corpus. It's important to note that previous approaches to mitigate noisy information </span>\n",
       "<span style=\"color: #76b900; text-decoration-color: #76b900; font-weight: bold\">through majority-vote mechanisms across retrieved documents have become ineffective when attackers inject multiple </span>\n",
       "<span style=\"color: #76b900; text-decoration-color: #76b900; font-weight: bold\">malicious documents that outnumber benign ones. </span>\n",
       "\n",
       "<span style=\"color: #76b900; text-decoration-color: #76b900; font-weight: bold\">TrustRAG is proposed in the paper </span><span style=\"color: #008000; text-decoration-color: #008000\">\"TrustRAG: Enhancing Robustness and Trustworthiness in RAG\"</span><span style=\"color: #76b900; text-decoration-color: #76b900; font-weight: bold\"> by Huichi Zhou, </span>\n",
       "<span style=\"color: #76b900; text-decoration-color: #76b900; font-weight: bold\">Kin-Hei Lee, Zhonghao Zhan, Yue Chen, and Zhenhao Li in </span><span style=\"color: #008080; text-decoration-color: #008080; font-weight: bold\">2024</span><span style=\"color: #76b900; text-decoration-color: #76b900; font-weight: bold\">.</span>\n",
       "\n",
       "\n",
       "</pre>\n"
      ],
      "text/plain": [
       "\u001b[1;38;2;118;185;0mRAG Answer: TrustRAG is a defense framework designed to enhance the robustness and trustworthiness of \u001b[0m\n",
       "\u001b[1;38;2;118;185;0mRetrieval-Augmented Generation \u001b[0m\u001b[1;38;2;118;185;0m(\u001b[0m\u001b[1;38;2;118;185;0mRAG\u001b[0m\u001b[1;38;2;118;185;0m)\u001b[0m\u001b[1;38;2;118;185;0m systems in the face of corpus poisoning attacks. It does this by employing a \u001b[0m\n",
       "\u001b[1;38;2;118;185;0mtwo-stage defense mechanism. \u001b[0m\n",
       "\n",
       "\u001b[1;38;2;118;185;0mIn the first stage, TrustRAG uses K-means clustering to identify potential attack patterns in retrieved documents \u001b[0m\n",
       "\u001b[1;38;2;118;185;0mbased on their semantic embeddings. This helps to isolate suspicious content that may be malicious. \u001b[0m\n",
       "\n",
       "\u001b[1;38;2;118;185;0mThe second stage of TrustRAG involves implementing a mechanism to filter compromised and irrelevant content before \u001b[0m\n",
       "\u001b[1;38;2;118;185;0mit reaches the language model. This is done through a majority-vote mechanism across retrieved documents and \u001b[0m\n",
       "\u001b[1;38;2;118;185;0mcarefully engineered prompts. \u001b[0m\n",
       "\n",
       "\u001b[1;38;2;118;185;0mThis approach is designed to maintain robust and trustworthy responses even when multiple malicious documents have \u001b[0m\n",
       "\u001b[1;38;2;118;185;0mcontaminated the retrieval corpus. It's important to note that previous approaches to mitigate noisy information \u001b[0m\n",
       "\u001b[1;38;2;118;185;0mthrough majority-vote mechanisms across retrieved documents have become ineffective when attackers inject multiple \u001b[0m\n",
       "\u001b[1;38;2;118;185;0mmalicious documents that outnumber benign ones. \u001b[0m\n",
       "\n",
       "\u001b[1;38;2;118;185;0mTrustRAG is proposed in the paper \u001b[0m\u001b[32m\"TrustRAG: Enhancing Robustness and Trustworthiness in RAG\"\u001b[0m\u001b[1;38;2;118;185;0m by Huichi Zhou, \u001b[0m\n",
       "\u001b[1;38;2;118;185;0mKin-Hei Lee, Zhonghao Zhan, Yue Chen, and Zhenhao Li in \u001b[0m\u001b[1;36m2024\u001b[0m\u001b[1;38;2;118;185;0m.\u001b[0m\n",
       "\n",
       "\n"
      ]
     },
     "metadata": {},
     "output_type": "display_data"
    },
    {
     "data": {
      "text/html": [
       "<pre style=\"white-space:pre;overflow-x:auto;line-height:normal;font-family:Menlo,'DejaVu Sans Mono',consolas,'Courier New',monospace\"><span style=\"font-weight: bold\">Synth Evaluation: [</span><span style=\"color: #008080; text-decoration-color: #008080; font-weight: bold\">2</span><span style=\"font-weight: bold\">] The second answer is more informative as it explains the two stages of TrustRAG in detail. It</span>\n",
       "<span style=\"font-weight: bold\">also highlights how previous methods have become ineffective and distinguishes how TrustRAG addresses this issue. </span>\n",
       "<span style=\"font-weight: bold\">Moreover, it provides a citation for the paper where TrustRAG was proposed. The answer does not introduce any </span>\n",
       "<span style=\"font-weight: bold\">inconsistencies with the ground truth.</span>\n",
       "\n",
       "\n",
       "</pre>\n"
      ],
      "text/plain": [
       "\u001b[1mSynth Evaluation: \u001b[0m\u001b[1m[\u001b[0m\u001b[1;36m2\u001b[0m\u001b[1m]\u001b[0m\u001b[1m The second answer is more informative as it explains the two stages of TrustRAG in detail. It\u001b[0m\n",
       "\u001b[1malso highlights how previous methods have become ineffective and distinguishes how TrustRAG addresses this issue. \u001b[0m\n",
       "\u001b[1mMoreover, it provides a citation for the paper where TrustRAG was proposed. The answer does not introduce any \u001b[0m\n",
       "\u001b[1minconsistencies with the ground truth.\u001b[0m\n",
       "\n",
       "\n"
      ]
     },
     "metadata": {},
     "output_type": "display_data"
    }
   ],
   "source": [
    "## TODO: Adapt this prompt for whichever LLM you're actually interested in using. \n",
    "## If it's llama, maybe system message would be good?\n",
    "eval_prompt = ChatPromptTemplate.from_template(\"\"\"INSTRUCTION: \n",
    "Evaluate the following Question-Answer pair for human preference and consistency.\n",
    "Assume the first answer is a ground truth answer and has to be correct.\n",
    "Assume the second answer may or may not be true.\n",
    "The Score must be either 1 or 2.\n",
    "Score must be 1 if the second answer lies, does not answer the question, or is inferior to the first answer.\n",
    "Score must be 2 if the The second answer is better than the first and does not introduce any inconsistencies.\n",
    "\n",
    "Output Format:\n",
    "[Score] Justification\n",
    "\n",
    "{qa_trio}\n",
    "\n",
    "EVALUATION: \n",
    "\"\"\")\n",
    "\n",
    "pref_score = []\n",
    "\n",
    "trio_gen = zip(synth_questions, synth_answers, rag_answers)\n",
    "for i, (q, a_synth, a_rag) in enumerate(trio_gen):\n",
    "    pprint2(f\"Set {i+1}\\n\\nQuestion: {q}\\n\\n\")\n",
    "\n",
    "    qa_trio = f\"Question: {q}\\n\\nAnswer 1 (Ground Truth): {a_synth}\\n\\n Answer 2 (New Answer): {a_rag}\"\n",
    "    pref_score += [(eval_prompt | llm).invoke({'qa_trio': qa_trio})]\n",
    "    pprint(f\"Synth Answer: {a_synth}\\n\\n\")\n",
    "    pprint(f\"RAG Answer: {a_rag}\\n\\n\")\n",
    "    pprint2(f\"Synth Evaluation: {pref_score[-1]}\\n\\n\")"
   ]
  },
  {
   "cell_type": "markdown",
   "id": "e6595662-9f49-44eb-9868-2a3fdb1fb60f",
   "metadata": {},
   "source": [
    "<br>\n",
    "\n",
    "**Congratulations! We now have an LLM system that reasons about our pipeline and tries to evaluate it!** Now that we have some judge results, we can simply aggregate the results and see how often our formulation was according to an LLM:"
   ]
  },
  {
   "cell_type": "code",
   "execution_count": 10,
   "id": "3L_q6fMH3i6_",
   "metadata": {
    "id": "3L_q6fMH3i6_"
   },
   "outputs": [
    {
     "name": "stdout",
     "output_type": "stream",
     "text": [
      "Preference Score: 1.0\n"
     ]
    }
   ],
   "source": [
    "pref_score = sum((\"[2]\" in score) for score in pref_score) / len(pref_score)\n",
    "print(f\"Preference Score: {pref_score}\")"
   ]
  },
  {
   "cell_type": "code",
   "execution_count": 17,
   "id": "4fc56358-df24-4509-95d6-1ae6c99f1371",
   "metadata": {},
   "outputs": [
    {
     "name": "stdout",
     "output_type": "stream",
     "text": [
      "Hello! I'm just a computer program, so I don't have feelings, but I'm here and ready to assist you. How can I help you today? Is there something you would like to know or a problem you need help with?"
     ]
    }
   ],
   "source": [
    "\n",
    "from langserve import RemoteRunnable\n",
    "from langchain_core.output_parsers import StrOutputParser\n",
    "\n",
    "llm = RemoteRunnable(\"http://0.0.0.0:9012/basic_chat/\") | StrOutputParser()\n",
    "for token in llm.stream(\"Hello World! How is it going?\"):\n",
    "    print(token, end='')\n"
   ]
  },
  {
   "cell_type": "code",
   "execution_count": 34,
   "id": "b9873294-c040-43f5-ab21-e24224ae4014",
   "metadata": {},
   "outputs": [],
   "source": [
    "retrieval_chain9012 = RemoteRunnable(\"http://0.0.0.0:9012/retriever/\") | StrOutputParser()\n",
    "generator_chain9012 = RemoteRunnable(\"http://0.0.0.0:9012/generator/\")\n",
    "rag_chain9012 = retrieval_chain9012 | generator_chain9012\n",
    "\n"
   ]
  },
  {
   "cell_type": "code",
   "execution_count": 38,
   "id": "6dbf8144-8432-4b72-85d7-d0b4cabf8b2b",
   "metadata": {},
   "outputs": [],
   "source": [
    "# for token in retrieval_chain9012.stream(\"Tell me something interesting about RAG\"):\n",
    "#     print(token, end='')\n"
   ]
  },
  {
   "cell_type": "markdown",
   "id": "cf80bf04-118d-44a2-a740-361a756a1d5f",
   "metadata": {
    "id": "cf80bf04-118d-44a2-a740-361a756a1d5f"
   },
   "source": [
    "----\n",
    "\n",
    "<br>\n",
    "\n",
    "## **Part 4:** Advanced Formulations\n",
    "\n",
    "The exercise above was meant to prepare you for the final assessment of the course and showcased a simple but effective evaluator chain. The objective and implementation details were provided for you, and the logic for using it probably makes sense now that you've seen it in action. \n",
    "\n",
    "With that being said, this metric was merely a product of us specifying:\n",
    "- **What kind of behavior is important for our pipeline to have?**\n",
    "- **What do we need to do in order to exhibit and evaluate this behavior?**\n",
    "\n",
    "From these two questions, we could have come up with plenty of other evaluation metrics that could have assessed different attributes, incorporated different evaluator chain techniques, and even required different pipeline organization strategies. Though far from an exhaustive list, some common formulations you will likely come across may include:\n",
    "\n",
    "- **Style Evaluation:** Some evaluation formulations can be as simple as \"let me ask some questions and see if the output feels desirable.\" This might be used to see whether a chatbot \"acts like it's supposed to\" based on a description provided to a judge LLM. We're using quotations since this kind of assessment can reasonably be achieved with nothing but prompt engineering and a while loop.\n",
    "\n",
    "- **Ground-Truth Evaluation:** In our chain, we used synthetic generation to create some random questions and answers using a sampling strategy, but in reality you may actually have some representative questions and answers that you need your chatbot to consistently get right! In this case, a modification of the exercise chain above should be implemented and closely monitored as you develop your pipelines.\n",
    "\n",
    "- **Retrieval/Augmentation Evaluation:** This course made many assumptions about what kinds of preprocessing and prompting steps would be good for your pipelines, and much of this was determined by experimentation. Factors such as document preprocessing, chunking strategies, model selection, and prompt specification all played important roles, so creating metrics to validate these decisions may be of interest. This kind of metric might require your pipeline to output your context chunks or may even rely solely on embedding similarity comparisons, so keep this in mind when trying to implement a chain that works with multiple evaluation strategies. Consider the [**RagasEvaluatorChain**](https://docs.ragas.io/en/stable/howtos/integrations/langchain.html) abstraction as a decent starting point for making an custom generalizable evaluation routine. \n",
    "\n",
    "- **Trajectory Evaluation:** Using more advanced agent formulations, you can implement multiple-query strategies that assume the presence of conversational memory. With this, you can implement an evaluation agent which can:\n",
    "    - Ask a series of questions in order to evaluate how well the agent is able to adapt and cater to the scenario. This kind of system generally considers a series of correspondence and aims to tease out and evaluate a \"trajectory\" of how the agent navigated the conversation. The [**LangChain Trajectory Evaluators documentation**](https://python.langchain.com/v0.1/docs/guides/productionization/evaluation/trajectory/) is a good starting point.\n",
    "    - Alternatively, you could also implement an evaluation agent that tries to achieve objectives by interacting with the chatbot. Such an agent can output whether they were able to navigate to their solution in a natural manner, and can even be used to generate a report about the percieved performance. The [**LangChain Agents documentation**](https://python.langchain.com/v0.1/docs/modules/agents/) is a good starting point!\n",
    "\n",
    "<br>\n",
    "\n",
    "At the end of the day, just make sure to use the tools you have at your disposal appropriately. By this point in the course, you should already be well-acquainted with the LLM core value propositions: **They're powerful, scalable, predictable, controllable, and orchestratable... but will act unpredictably when you just expect them to work by default.** Assess your needs, formulate and validate your pipelines, give enough information, and add as much control as you can to make your system work consistently, efficiently, and effectively."
   ]
  },
  {
   "cell_type": "markdown",
   "id": "61faee2c-e534-4c89-91ae-45c37835dba5",
   "metadata": {},
   "source": [
    "----\n",
    "\n",
    "<br>\n",
    "\n",
    "## **Part 5: [Assessment]** Evaluating For Credit\n",
    "\n",
    "Welcome to the last exercise of the course! Hopefully you've enjoyed the material and are ready to actually get credit for these notebooks! For this part:\n",
    "\n",
    "- **Make sure you're in the course environment**\n",
    "- **Make sure `docstore_index/` has been uploaded to the course environment...**\n",
    "    - **...and contains [at least one Arxiv paper](https://arxiv.org/search/advanced) which has been updated recently.**\n",
    "- **Make sure you don't have some old session of [`09_langserve.ipynb`](09_langserve.ipynb) already occupying the port. Your assessment requires you to implement the new `/retriever` and `/generator` endpoints!!**\n",
    "\n",
    "**Objective:** On launch, [**`frontend/frontend_block.py`**](frontend/frontend_block.py) had several lines of code which trigger the course pass condition. Your objective is to invoke that series of commands by using your pipeline to pass the **Evaluation** check! Recall [`09_langserve.ipynb`](09_langserve.ipynb) and use it as a starting example! As a recommendation, consider duplicating it so that you can keep the original as an authoritative reference. \n",
    "\n",
    "**Once Finished:** While your course environment is still open, please navigate back to your course environment launcher area and click the **\"Assess Task\"** button! After that, you're all done!"
   ]
  },
  {
   "cell_type": "code",
   "execution_count": null,
   "id": "48e300ed-951c-4006-ac54-cbbd41251707",
   "metadata": {},
   "outputs": [],
   "source": [
    "%%js\n",
    "var url = 'http://'+window.location.host+':8090';\n",
    "element.innerHTML = '<a style=\"color:green;\" target=\"_blank\" href='+url+'><h1>< Link To Gradio Frontend ></h1></a>';"
   ]
  },
  {
   "cell_type": "markdown",
   "id": "5aff364c-519e-435e-bf1d-ce68a12d13e0",
   "metadata": {
    "id": "5aff364c-519e-435e-bf1d-ce68a12d13e0"
   },
   "source": [
    "----\n",
    "\n",
    "<br>\n",
    "\n",
    "## <font color=\"#76b900\">**Congratulations On Completing The Course**</font>\n",
    "\n",
    "Hopefully this course was not only exciting and challenging, but also adequately prepared you for work on the cutting edge of LLM and RAG system development! Going forward, you should have the skills necessary to tackle industry-level challenges and explore RAG deployment with open-source models and frameworks.\n",
    "\n",
    "**Some NVIDIA-specific releases related to this that you may find interesting include:**\n",
    "- [**NVIDIA NIM**](https://www.nvidia.com/en-us/ai/), which offers microservice spinup routines that can be deployed on local compute.\n",
    "- [**TensorRT-LLM**](https://github.com/NVIDIA/TensorRT-LLM) is the current recommended framework for deploying GPU-accelerated LLM model engines in production settings.\n",
    "- [**NVIDIA's Generative AI Examples Repo**](https://github.com/NVIDIA/GenerativeAIExamples), which includes the current canonical microservice example application and will be updated with new resources as new production workflows get released.\n",
    "- [**The Knowledge-Based Chatbot Technical Brief**](https://resources.nvidia.com/en-us-generative-ai-chatbot-workflow/knowledge-base-chatbot-technical-brief) which discusses additional publicly-accessible details on productionalizing RAG systems.\n",
    "\n",
    "**Additionally, some key topics you may be interested in delving more into include:**\n",
    "- [**LlamaIndex**](https://www.llamaindex.ai/), which has strong components that can augment and occasionally improve upon the LangChain RAG features.\n",
    "- [**LangSmith**](https://docs.smith.langchain.com/), an upcoming agent productionalization service offered by LangChain.\n",
    "- [**Gradio**](https://www.gradio.app/), though touched on in the course, has many more interface options which will be worth investigating. For inspiration, consider checking out [**HuggingFace Spaces**](https://huggingface.co/spaces) for examples.\n",
    "- [**LangGraph**](https://python.langchain.com/docs/langgraph/) is a framework for graph-based LLM orchestration, and is a natural next step forward for those interested in [multi-agent workflows](https://blog.langchain.dev/langgraph-multi-agent-workflows/).\n",
    "- [**DSPy**](https://github.com/stanfordnlp/dspy), a flow engineering framework that allows you to optimize LLM orchestration pipelines based on empirical performance results."
   ]
  },
  {
   "cell_type": "markdown",
   "id": "035451c9-ed12-4bc3-b468-04db5c399e03",
   "metadata": {
    "id": "035451c9-ed12-4bc3-b468-04db5c399e03"
   },
   "source": [
    "<center><a href=\"https://www.nvidia.com/en-us/training/\"><img src=\"https://dli-lms.s3.amazonaws.com/assets/general/DLI_Header_White.png\" width=\"400\" height=\"186\" /></a></center>"
   ]
  }
 ],
 "metadata": {
  "colab": {
   "provenance": []
  },
  "kernelspec": {
   "display_name": "Python 3 (ipykernel)",
   "language": "python",
   "name": "python3"
  },
  "language_info": {
   "codemirror_mode": {
    "name": "ipython",
    "version": 3
   },
   "file_extension": ".py",
   "mimetype": "text/x-python",
   "name": "python",
   "nbconvert_exporter": "python",
   "pygments_lexer": "ipython3",
   "version": "3.11.10"
  }
 },
 "nbformat": 4,
 "nbformat_minor": 5
}
